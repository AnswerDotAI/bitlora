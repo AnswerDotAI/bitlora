{
 "cells": [
  {
   "cell_type": "code",
   "execution_count": 1,
   "id": "a68ee3c2-61a9-4019-ab93-68fbb1c088fb",
   "metadata": {},
   "outputs": [],
   "source": [
    "from transformers import AutoTokenizer, AutoModelForCausalLM"
   ]
  },
  {
   "cell_type": "code",
   "execution_count": 2,
   "id": "3570ce03-88b3-4884-8a93-66aa75ee37e4",
   "metadata": {},
   "outputs": [],
   "source": [
    "model = AutoModelForCausalLM.from_pretrained(\"microsoft/phi-1_5\")\n",
    "toker = AutoTokenizer.from_pretrained(\"microsoft/phi-1_5\")"
   ]
  },
  {
   "cell_type": "code",
   "execution_count": 3,
   "id": "5ff7cf47-4d02-446b-8b0f-c2f7e92cc2c1",
   "metadata": {},
   "outputs": [],
   "source": [
    "model.save_pretrained('local_phi_1_5')"
   ]
  },
  {
   "cell_type": "code",
   "execution_count": 4,
   "id": "d3b4ffaf-4de7-45d1-bf36-5be7b59de208",
   "metadata": {},
   "outputs": [],
   "source": [
    "toker.save_pretrained('local_phi_1_5');"
   ]
  },
  {
   "cell_type": "code",
   "execution_count": null,
   "id": "d90eeafe-dc1d-49a1-aa3f-d6c24d8970f2",
   "metadata": {},
   "outputs": [],
   "source": []
  }
 ],
 "metadata": {
  "kernelspec": {
   "display_name": "Python 3",
   "language": "python",
   "name": "python3"
  },
  "language_info": {
   "codemirror_mode": {
    "name": "ipython",
    "version": 3
   },
   "file_extension": ".py",
   "mimetype": "text/x-python",
   "name": "python",
   "nbconvert_exporter": "python",
   "pygments_lexer": "ipython3",
   "version": "3.10.10"
  }
 },
 "nbformat": 4,
 "nbformat_minor": 5
}
