{
 "cells": [
  {
   "cell_type": "code",
   "execution_count": 1,
   "id": "ab942335-640e-47f2-a235-9dd67b592ee7",
   "metadata": {},
   "outputs": [],
   "source": [
    "from lm_eval.__main__ import cli_evaluate"
   ]
  },
  {
   "cell_type": "code",
   "execution_count": 2,
   "id": "80466bbc-78a0-4d0c-85d3-61dd3e5f369d",
   "metadata": {},
   "outputs": [],
   "source": [
    "from types import SimpleNamespace\n",
    "\n",
    "class DefaultSimpleNamespace(SimpleNamespace):\n",
    "    def __getattr__(self, name):\n",
    "        return None\n",
    "\n",
    "args = DefaultSimpleNamespace(\n",
    "    model='hf',\n",
    "    model_args='pretrained=microsoft/phi-1_5',\n",
    "    tasks='hellaswag',\n",
    "    device='cuda:0',\n",
    "    batch_size='auto',\n",
    "    verbosity = 'INFO',\n",
    "    seed = (0,0,0),\n",
    ")\n",
    "assert args.model == 'hf'\n",
    "assert args.blabla is None"
   ]
  },
  {
   "cell_type": "code",
   "execution_count": 3,
   "id": "cb070132-1ec9-45cf-9980-a977e4eb536f",
   "metadata": {},
   "outputs": [
    {
     "name": "stderr",
     "output_type": "stream",
     "text": [
      "2024-04-23:09:41:39,777 INFO     [__main__.py:251] Verbosity set to INFO\n",
      "2024-04-23:09:41:45,562 INFO     [__main__.py:335] Selected Tasks: ['hellaswag']\n",
      "2024-04-23:09:41:45,564 INFO     [evaluator.py:131] Setting random seed to 0 | Setting numpy seed to 0 | Setting torch manual seed to 0\n",
      "2024-04-23:09:41:45,565 INFO     [evaluator.py:177] Initializing hf model, with arguments: {'pretrained': 'microsoft/phi-1_5'}\n",
      "2024-04-23:09:41:45,571 INFO     [huggingface.py:172] Device not specified\n",
      "2024-04-23:09:41:45,572 INFO     [huggingface.py:173] Cuda Available? False\n",
      "/home/zeus/miniconda3/envs/cloudspace/lib/python3.10/site-packages/datasets/load.py:1486: FutureWarning: The repository for hellaswag contains custom code which must be executed to correctly load the dataset. You can inspect the repository content at https://hf.co/datasets/hellaswag\n",
      "You can avoid this message in future by passing the argument `trust_remote_code=True`.\n",
      "Passing `trust_remote_code=True` will be mandatory to load this dataset from the next major release of `datasets`.\n",
      "  warnings.warn(\n",
      "2024-04-23:09:41:51,552 INFO     [task.py:395] Building contexts for hellaswag on rank 0...\n",
      "100%|██████████| 10042/10042 [00:04<00:00, 2424.11it/s]\n"
     ]
    },
    {
     "ename": "RuntimeError",
     "evalue": "Umer: Time to inspect!",
     "output_type": "error",
     "traceback": [
      "\u001b[0;31m---------------------------------------------------------------------------\u001b[0m",
      "\u001b[0;31mRuntimeError\u001b[0m                              Traceback (most recent call last)",
      "Cell \u001b[0;32mIn[3], line 1\u001b[0m\n\u001b[0;32m----> 1\u001b[0m \u001b[43mcli_evaluate\u001b[49m\u001b[43m(\u001b[49m\u001b[43margs\u001b[49m\u001b[43m)\u001b[49m\n",
      "File \u001b[0;32m~/lm-evaluation-harness/lm_eval/__main__.py:341\u001b[0m, in \u001b[0;36mcli_evaluate\u001b[0;34m(args)\u001b[0m\n\u001b[1;32m    335\u001b[0m eval_logger\u001b[38;5;241m.\u001b[39minfo(\u001b[38;5;124mf\u001b[39m\u001b[38;5;124m\"\u001b[39m\u001b[38;5;124mSelected Tasks: \u001b[39m\u001b[38;5;132;01m{\u001b[39;00mtask_names\u001b[38;5;132;01m}\u001b[39;00m\u001b[38;5;124m\"\u001b[39m)\n\u001b[1;32m    337\u001b[0m request_caching_args \u001b[38;5;241m=\u001b[39m request_caching_arg_to_dict(\n\u001b[1;32m    338\u001b[0m     cache_requests\u001b[38;5;241m=\u001b[39margs\u001b[38;5;241m.\u001b[39mcache_requests\n\u001b[1;32m    339\u001b[0m )\n\u001b[0;32m--> 341\u001b[0m results \u001b[38;5;241m=\u001b[39m \u001b[43mevaluator\u001b[49m\u001b[38;5;241;43m.\u001b[39;49m\u001b[43msimple_evaluate\u001b[49m\u001b[43m(\u001b[49m\n\u001b[1;32m    342\u001b[0m \u001b[43m    \u001b[49m\u001b[43mmodel\u001b[49m\u001b[38;5;241;43m=\u001b[39;49m\u001b[43margs\u001b[49m\u001b[38;5;241;43m.\u001b[39;49m\u001b[43mmodel\u001b[49m\u001b[43m,\u001b[49m\n\u001b[1;32m    343\u001b[0m \u001b[43m    \u001b[49m\u001b[43mmodel_args\u001b[49m\u001b[38;5;241;43m=\u001b[39;49m\u001b[43margs\u001b[49m\u001b[38;5;241;43m.\u001b[39;49m\u001b[43mmodel_args\u001b[49m\u001b[43m,\u001b[49m\n\u001b[1;32m    344\u001b[0m \u001b[43m    \u001b[49m\u001b[43mtasks\u001b[49m\u001b[38;5;241;43m=\u001b[39;49m\u001b[43mtask_names\u001b[49m\u001b[43m,\u001b[49m\n\u001b[1;32m    345\u001b[0m \u001b[43m    \u001b[49m\u001b[43mnum_fewshot\u001b[49m\u001b[38;5;241;43m=\u001b[39;49m\u001b[43margs\u001b[49m\u001b[38;5;241;43m.\u001b[39;49m\u001b[43mnum_fewshot\u001b[49m\u001b[43m,\u001b[49m\n\u001b[1;32m    346\u001b[0m \u001b[43m    \u001b[49m\u001b[43mbatch_size\u001b[49m\u001b[38;5;241;43m=\u001b[39;49m\u001b[43margs\u001b[49m\u001b[38;5;241;43m.\u001b[39;49m\u001b[43mbatch_size\u001b[49m\u001b[43m,\u001b[49m\n\u001b[1;32m    347\u001b[0m \u001b[43m    \u001b[49m\u001b[43mmax_batch_size\u001b[49m\u001b[38;5;241;43m=\u001b[39;49m\u001b[43margs\u001b[49m\u001b[38;5;241;43m.\u001b[39;49m\u001b[43mmax_batch_size\u001b[49m\u001b[43m,\u001b[49m\n\u001b[1;32m    348\u001b[0m \u001b[43m    \u001b[49m\u001b[43mdevice\u001b[49m\u001b[38;5;241;43m=\u001b[39;49m\u001b[43margs\u001b[49m\u001b[38;5;241;43m.\u001b[39;49m\u001b[43mdevice\u001b[49m\u001b[43m,\u001b[49m\n\u001b[1;32m    349\u001b[0m \u001b[43m    \u001b[49m\u001b[43muse_cache\u001b[49m\u001b[38;5;241;43m=\u001b[39;49m\u001b[43margs\u001b[49m\u001b[38;5;241;43m.\u001b[39;49m\u001b[43muse_cache\u001b[49m\u001b[43m,\u001b[49m\n\u001b[1;32m    350\u001b[0m \u001b[43m    \u001b[49m\u001b[43mlimit\u001b[49m\u001b[38;5;241;43m=\u001b[39;49m\u001b[43margs\u001b[49m\u001b[38;5;241;43m.\u001b[39;49m\u001b[43mlimit\u001b[49m\u001b[43m,\u001b[49m\n\u001b[1;32m    351\u001b[0m \u001b[43m    \u001b[49m\u001b[43mcheck_integrity\u001b[49m\u001b[38;5;241;43m=\u001b[39;49m\u001b[43margs\u001b[49m\u001b[38;5;241;43m.\u001b[39;49m\u001b[43mcheck_integrity\u001b[49m\u001b[43m,\u001b[49m\n\u001b[1;32m    352\u001b[0m \u001b[43m    \u001b[49m\u001b[43mwrite_out\u001b[49m\u001b[38;5;241;43m=\u001b[39;49m\u001b[43margs\u001b[49m\u001b[38;5;241;43m.\u001b[39;49m\u001b[43mwrite_out\u001b[49m\u001b[43m,\u001b[49m\n\u001b[1;32m    353\u001b[0m \u001b[43m    \u001b[49m\u001b[43mlog_samples\u001b[49m\u001b[38;5;241;43m=\u001b[39;49m\u001b[43margs\u001b[49m\u001b[38;5;241;43m.\u001b[39;49m\u001b[43mlog_samples\u001b[49m\u001b[43m,\u001b[49m\n\u001b[1;32m    354\u001b[0m \u001b[43m    \u001b[49m\u001b[43mgen_kwargs\u001b[49m\u001b[38;5;241;43m=\u001b[39;49m\u001b[43margs\u001b[49m\u001b[38;5;241;43m.\u001b[39;49m\u001b[43mgen_kwargs\u001b[49m\u001b[43m,\u001b[49m\n\u001b[1;32m    355\u001b[0m \u001b[43m    \u001b[49m\u001b[43mtask_manager\u001b[49m\u001b[38;5;241;43m=\u001b[39;49m\u001b[43mtask_manager\u001b[49m\u001b[43m,\u001b[49m\n\u001b[1;32m    356\u001b[0m \u001b[43m    \u001b[49m\u001b[43mverbosity\u001b[49m\u001b[38;5;241;43m=\u001b[39;49m\u001b[43margs\u001b[49m\u001b[38;5;241;43m.\u001b[39;49m\u001b[43mverbosity\u001b[49m\u001b[43m,\u001b[49m\n\u001b[1;32m    357\u001b[0m \u001b[43m    \u001b[49m\u001b[43mpredict_only\u001b[49m\u001b[38;5;241;43m=\u001b[39;49m\u001b[43margs\u001b[49m\u001b[38;5;241;43m.\u001b[39;49m\u001b[43mpredict_only\u001b[49m\u001b[43m,\u001b[49m\n\u001b[1;32m    358\u001b[0m \u001b[43m    \u001b[49m\u001b[43mrandom_seed\u001b[49m\u001b[38;5;241;43m=\u001b[39;49m\u001b[43margs\u001b[49m\u001b[38;5;241;43m.\u001b[39;49m\u001b[43mseed\u001b[49m\u001b[43m[\u001b[49m\u001b[38;5;241;43m0\u001b[39;49m\u001b[43m]\u001b[49m\u001b[43m,\u001b[49m\n\u001b[1;32m    359\u001b[0m \u001b[43m    \u001b[49m\u001b[43mnumpy_random_seed\u001b[49m\u001b[38;5;241;43m=\u001b[39;49m\u001b[43margs\u001b[49m\u001b[38;5;241;43m.\u001b[39;49m\u001b[43mseed\u001b[49m\u001b[43m[\u001b[49m\u001b[38;5;241;43m1\u001b[39;49m\u001b[43m]\u001b[49m\u001b[43m,\u001b[49m\n\u001b[1;32m    360\u001b[0m \u001b[43m    \u001b[49m\u001b[43mtorch_random_seed\u001b[49m\u001b[38;5;241;43m=\u001b[39;49m\u001b[43margs\u001b[49m\u001b[38;5;241;43m.\u001b[39;49m\u001b[43mseed\u001b[49m\u001b[43m[\u001b[49m\u001b[38;5;241;43m2\u001b[39;49m\u001b[43m]\u001b[49m\u001b[43m,\u001b[49m\n\u001b[1;32m    361\u001b[0m \u001b[43m    \u001b[49m\u001b[38;5;241;43m*\u001b[39;49m\u001b[38;5;241;43m*\u001b[39;49m\u001b[43mrequest_caching_args\u001b[49m\u001b[43m,\u001b[49m\n\u001b[1;32m    362\u001b[0m \u001b[43m\u001b[49m\u001b[43m)\u001b[49m\n\u001b[1;32m    364\u001b[0m \u001b[38;5;28;01mif\u001b[39;00m results \u001b[38;5;129;01mis\u001b[39;00m \u001b[38;5;129;01mnot\u001b[39;00m \u001b[38;5;28;01mNone\u001b[39;00m:\n\u001b[1;32m    365\u001b[0m     \u001b[38;5;28;01mif\u001b[39;00m args\u001b[38;5;241m.\u001b[39mlog_samples:\n",
      "File \u001b[0;32m~/lm-evaluation-harness/lm_eval/utils.py:288\u001b[0m, in \u001b[0;36mpositional_deprecated.<locals>._wrapper\u001b[0;34m(*args, **kwargs)\u001b[0m\n\u001b[1;32m    282\u001b[0m \u001b[38;5;28;01mif\u001b[39;00m \u001b[38;5;28mlen\u001b[39m(args) \u001b[38;5;241m!=\u001b[39m \u001b[38;5;241m1\u001b[39m \u001b[38;5;28;01mif\u001b[39;00m inspect\u001b[38;5;241m.\u001b[39mismethod(fn) \u001b[38;5;28;01melse\u001b[39;00m \u001b[38;5;241m0\u001b[39m:\n\u001b[1;32m    283\u001b[0m     \u001b[38;5;28mprint\u001b[39m(\n\u001b[1;32m    284\u001b[0m         \u001b[38;5;124mf\u001b[39m\u001b[38;5;124m\"\u001b[39m\u001b[38;5;124mWARNING: using \u001b[39m\u001b[38;5;132;01m{\u001b[39;00mfn\u001b[38;5;241m.\u001b[39m\u001b[38;5;18m__name__\u001b[39m\u001b[38;5;132;01m}\u001b[39;00m\u001b[38;5;124m with positional arguments is \u001b[39m\u001b[38;5;124m\"\u001b[39m\n\u001b[1;32m    285\u001b[0m         \u001b[38;5;124m\"\u001b[39m\u001b[38;5;124mdeprecated and will be disallowed in a future version of \u001b[39m\u001b[38;5;124m\"\u001b[39m\n\u001b[1;32m    286\u001b[0m         \u001b[38;5;124m\"\u001b[39m\u001b[38;5;124mlm-evaluation-harness!\u001b[39m\u001b[38;5;124m\"\u001b[39m\n\u001b[1;32m    287\u001b[0m     )\n\u001b[0;32m--> 288\u001b[0m \u001b[38;5;28;01mreturn\u001b[39;00m \u001b[43mfn\u001b[49m\u001b[43m(\u001b[49m\u001b[38;5;241;43m*\u001b[39;49m\u001b[43margs\u001b[49m\u001b[43m,\u001b[49m\u001b[43m \u001b[49m\u001b[38;5;241;43m*\u001b[39;49m\u001b[38;5;241;43m*\u001b[39;49m\u001b[43mkwargs\u001b[49m\u001b[43m)\u001b[49m\n",
      "File \u001b[0;32m~/lm-evaluation-harness/lm_eval/evaluator.py:251\u001b[0m, in \u001b[0;36msimple_evaluate\u001b[0;34m(model, model_args, tasks, num_fewshot, batch_size, max_batch_size, device, use_cache, cache_requests, rewrite_requests_cache, delete_requests_cache, limit, bootstrap_iters, check_integrity, write_out, log_samples, gen_kwargs, task_manager, verbosity, predict_only, random_seed, numpy_random_seed, torch_random_seed)\u001b[0m\n\u001b[1;32m    248\u001b[0m \u001b[38;5;28;01mif\u001b[39;00m check_integrity:\n\u001b[1;32m    249\u001b[0m     run_task_tests(task_list\u001b[38;5;241m=\u001b[39mtasks)\n\u001b[0;32m--> 251\u001b[0m results \u001b[38;5;241m=\u001b[39m \u001b[43mevaluate\u001b[49m\u001b[43m(\u001b[49m\n\u001b[1;32m    252\u001b[0m \u001b[43m    \u001b[49m\u001b[43mlm\u001b[49m\u001b[38;5;241;43m=\u001b[39;49m\u001b[43mlm\u001b[49m\u001b[43m,\u001b[49m\n\u001b[1;32m    253\u001b[0m \u001b[43m    \u001b[49m\u001b[43mtask_dict\u001b[49m\u001b[38;5;241;43m=\u001b[39;49m\u001b[43mtask_dict\u001b[49m\u001b[43m,\u001b[49m\n\u001b[1;32m    254\u001b[0m \u001b[43m    \u001b[49m\u001b[43mlimit\u001b[49m\u001b[38;5;241;43m=\u001b[39;49m\u001b[43mlimit\u001b[49m\u001b[43m,\u001b[49m\n\u001b[1;32m    255\u001b[0m \u001b[43m    \u001b[49m\u001b[43mcache_requests\u001b[49m\u001b[38;5;241;43m=\u001b[39;49m\u001b[43mcache_requests\u001b[49m\u001b[43m,\u001b[49m\n\u001b[1;32m    256\u001b[0m \u001b[43m    \u001b[49m\u001b[43mrewrite_requests_cache\u001b[49m\u001b[38;5;241;43m=\u001b[39;49m\u001b[43mrewrite_requests_cache\u001b[49m\u001b[43m,\u001b[49m\n\u001b[1;32m    257\u001b[0m \u001b[43m    \u001b[49m\u001b[43mbootstrap_iters\u001b[49m\u001b[38;5;241;43m=\u001b[39;49m\u001b[43mbootstrap_iters\u001b[49m\u001b[43m,\u001b[49m\n\u001b[1;32m    258\u001b[0m \u001b[43m    \u001b[49m\u001b[43mwrite_out\u001b[49m\u001b[38;5;241;43m=\u001b[39;49m\u001b[43mwrite_out\u001b[49m\u001b[43m,\u001b[49m\n\u001b[1;32m    259\u001b[0m \u001b[43m    \u001b[49m\u001b[43mlog_samples\u001b[49m\u001b[38;5;241;43m=\u001b[39;49m\u001b[43mlog_samples\u001b[49m\u001b[43m,\u001b[49m\n\u001b[1;32m    260\u001b[0m \u001b[43m    \u001b[49m\u001b[43mverbosity\u001b[49m\u001b[38;5;241;43m=\u001b[39;49m\u001b[43mverbosity\u001b[49m\u001b[43m,\u001b[49m\n\u001b[1;32m    261\u001b[0m \u001b[43m\u001b[49m\u001b[43m)\u001b[49m\n\u001b[1;32m    263\u001b[0m \u001b[38;5;28;01mif\u001b[39;00m lm\u001b[38;5;241m.\u001b[39mrank \u001b[38;5;241m==\u001b[39m \u001b[38;5;241m0\u001b[39m:\n\u001b[1;32m    264\u001b[0m     \u001b[38;5;28;01mif\u001b[39;00m \u001b[38;5;28misinstance\u001b[39m(model, \u001b[38;5;28mstr\u001b[39m):\n",
      "File \u001b[0;32m~/lm-evaluation-harness/lm_eval/utils.py:288\u001b[0m, in \u001b[0;36mpositional_deprecated.<locals>._wrapper\u001b[0;34m(*args, **kwargs)\u001b[0m\n\u001b[1;32m    282\u001b[0m \u001b[38;5;28;01mif\u001b[39;00m \u001b[38;5;28mlen\u001b[39m(args) \u001b[38;5;241m!=\u001b[39m \u001b[38;5;241m1\u001b[39m \u001b[38;5;28;01mif\u001b[39;00m inspect\u001b[38;5;241m.\u001b[39mismethod(fn) \u001b[38;5;28;01melse\u001b[39;00m \u001b[38;5;241m0\u001b[39m:\n\u001b[1;32m    283\u001b[0m     \u001b[38;5;28mprint\u001b[39m(\n\u001b[1;32m    284\u001b[0m         \u001b[38;5;124mf\u001b[39m\u001b[38;5;124m\"\u001b[39m\u001b[38;5;124mWARNING: using \u001b[39m\u001b[38;5;132;01m{\u001b[39;00mfn\u001b[38;5;241m.\u001b[39m\u001b[38;5;18m__name__\u001b[39m\u001b[38;5;132;01m}\u001b[39;00m\u001b[38;5;124m with positional arguments is \u001b[39m\u001b[38;5;124m\"\u001b[39m\n\u001b[1;32m    285\u001b[0m         \u001b[38;5;124m\"\u001b[39m\u001b[38;5;124mdeprecated and will be disallowed in a future version of \u001b[39m\u001b[38;5;124m\"\u001b[39m\n\u001b[1;32m    286\u001b[0m         \u001b[38;5;124m\"\u001b[39m\u001b[38;5;124mlm-evaluation-harness!\u001b[39m\u001b[38;5;124m\"\u001b[39m\n\u001b[1;32m    287\u001b[0m     )\n\u001b[0;32m--> 288\u001b[0m \u001b[38;5;28;01mreturn\u001b[39;00m \u001b[43mfn\u001b[49m\u001b[43m(\u001b[49m\u001b[38;5;241;43m*\u001b[39;49m\u001b[43margs\u001b[49m\u001b[43m,\u001b[49m\u001b[43m \u001b[49m\u001b[38;5;241;43m*\u001b[39;49m\u001b[38;5;241;43m*\u001b[39;49m\u001b[43mkwargs\u001b[49m\u001b[43m)\u001b[49m\n",
      "File \u001b[0;32m~/lm-evaluation-harness/lm_eval/evaluator.py:376\u001b[0m, in \u001b[0;36mevaluate\u001b[0;34m(lm, task_dict, limit, cache_requests, rewrite_requests_cache, bootstrap_iters, write_out, log_samples, verbosity)\u001b[0m\n\u001b[1;32m    373\u001b[0m         \u001b[38;5;66;03m# todo: may not account for padding in cases like SquadV2 which has multiple req types\u001b[39;00m\n\u001b[1;32m    374\u001b[0m         padding_requests[reqtype] \u001b[38;5;241m+\u001b[39m\u001b[38;5;241m=\u001b[39m numpad\n\u001b[0;32m--> 376\u001b[0m \u001b[38;5;28;01mraise\u001b[39;00m \u001b[38;5;167;01mRuntimeError\u001b[39;00m(\u001b[38;5;124m'\u001b[39m\u001b[38;5;124mUmer: Time to inspect!\u001b[39m\u001b[38;5;124m'\u001b[39m)\n\u001b[1;32m    378\u001b[0m \u001b[38;5;66;03m### Run LM on inputs, get all outputs ###\u001b[39;00m\n\u001b[1;32m    379\u001b[0m \u001b[38;5;66;03m# execute each type of request\u001b[39;00m\n\u001b[1;32m    380\u001b[0m \u001b[38;5;28;01mfor\u001b[39;00m reqtype, reqs \u001b[38;5;129;01min\u001b[39;00m requests\u001b[38;5;241m.\u001b[39mitems():\n",
      "\u001b[0;31mRuntimeError\u001b[0m: Umer: Time to inspect!"
     ]
    }
   ],
   "source": [
    "cli_evaluate(args)"
   ]
  },
  {
   "cell_type": "code",
   "execution_count": null,
   "id": "9c08e1cb-a154-4a7e-a57b-3c55f03ce9bb",
   "metadata": {},
   "outputs": [
    {
     "name": "stdout",
     "output_type": "stream",
     "text": [
      "> \u001b[0;32m/teamspace/studios/this_studio/lm-evaluation-harness/lm_eval/evaluator.py\u001b[0m(376)\u001b[0;36mevaluate\u001b[0;34m()\u001b[0m\n",
      "\u001b[0;32m    374 \u001b[0;31m            \u001b[0mpadding_requests\u001b[0m\u001b[0;34m[\u001b[0m\u001b[0mreqtype\u001b[0m\u001b[0;34m]\u001b[0m \u001b[0;34m+=\u001b[0m \u001b[0mnumpad\u001b[0m\u001b[0;34m\u001b[0m\u001b[0;34m\u001b[0m\u001b[0m\n",
      "\u001b[0m\u001b[0;32m    375 \u001b[0;31m\u001b[0;34m\u001b[0m\u001b[0m\n",
      "\u001b[0m\u001b[0;32m--> 376 \u001b[0;31m    \u001b[0;32mraise\u001b[0m \u001b[0mRuntimeError\u001b[0m\u001b[0;34m(\u001b[0m\u001b[0;34m'Umer: Time to inspect!'\u001b[0m\u001b[0;34m)\u001b[0m\u001b[0;34m\u001b[0m\u001b[0;34m\u001b[0m\u001b[0m\n",
      "\u001b[0m\u001b[0;32m    377 \u001b[0;31m\u001b[0;34m\u001b[0m\u001b[0m\n",
      "\u001b[0m\u001b[0;32m    378 \u001b[0;31m    \u001b[0;31m### Run LM on inputs, get all outputs ###\u001b[0m\u001b[0;34m\u001b[0m\u001b[0;34m\u001b[0m\u001b[0m\n",
      "\u001b[0m\n"
     ]
    },
    {
     "name": "stdin",
     "output_type": "stream",
     "text": [
      "ipdb>  type(eval_tasks)\n"
     ]
    },
    {
     "name": "stdout",
     "output_type": "stream",
     "text": [
      "<class 'list'>\n"
     ]
    },
    {
     "name": "stdin",
     "output_type": "stream",
     "text": [
      "ipdb>  len(eval_tasks)\n"
     ]
    },
    {
     "name": "stdout",
     "output_type": "stream",
     "text": [
      "1\n"
     ]
    },
    {
     "name": "stdin",
     "output_type": "stream",
     "text": [
      "ipdb>  eval_tasks\n"
     ]
    },
    {
     "name": "stdout",
     "output_type": "stream",
     "text": [
      "[TaskOutput(task_name=hellaswag, group_name=None, version=1.0,n_shot=0task_alias=None, group_alias=None)]\n"
     ]
    },
    {
     "name": "stdin",
     "output_type": "stream",
     "text": [
      "ipdb>  eval_tasks[0]\n"
     ]
    },
    {
     "name": "stdout",
     "output_type": "stream",
     "text": [
      "TaskOutput(task_name=hellaswag, group_name=None, version=1.0,n_shot=0task_alias=None, group_alias=None)\n"
     ]
    },
    {
     "name": "stdin",
     "output_type": "stream",
     "text": [
      "ipdb>  task_hierarchy\n"
     ]
    },
    {
     "name": "stdout",
     "output_type": "stream",
     "text": [
      "defaultdict(<class 'list'>, {'hellaswag': []})\n"
     ]
    },
    {
     "name": "stdin",
     "output_type": "stream",
     "text": [
      "ipdb>  my_task = eval_tasks[0]\n",
      "ipdb>  my_task.task\n"
     ]
    },
    {
     "name": "stdout",
     "output_type": "stream",
     "text": [
      "ConfigurableTask(task_name=hellaswag,group_name=['multiple_choice'],output_type=multiple_choice,num_fewshot=0,num_samples=10042)\n"
     ]
    },
    {
     "name": "stdin",
     "output_type": "stream",
     "text": [
      "ipdb>  limit\n",
      "ipdb>  print(limit)\n"
     ]
    },
    {
     "name": "stdout",
     "output_type": "stream",
     "text": [
      "None\n"
     ]
    },
    {
     "name": "stdin",
     "output_type": "stream",
     "text": [
      "ipdb>  get_sample_size(task, limit)\n",
      "ipdb>  print(get_sample_size(task, limit))\n"
     ]
    },
    {
     "name": "stdout",
     "output_type": "stream",
     "text": [
      "None\n"
     ]
    },
    {
     "name": "stdin",
     "output_type": "stream",
     "text": [
      "ipdb>  eval_logger\n"
     ]
    },
    {
     "name": "stdout",
     "output_type": "stream",
     "text": [
      "<Logger lm-eval (INFO)>\n"
     ]
    },
    {
     "name": "stdin",
     "output_type": "stream",
     "text": [
      "ipdb>  requests\n"
     ]
    },
    {
     "name": "stderr",
     "output_type": "stream",
     "text": [
      "IOPub data rate exceeded.\n",
      "The Jupyter server will temporarily stop sending output\n",
      "to the client in order to avoid crashing it.\n",
      "To change this limit, set the config variable\n",
      "`--ServerApp.iopub_data_rate_limit`.\n",
      "\n",
      "Current values:\n",
      "ServerApp.iopub_data_rate_limit=1000000.0 (bytes/sec)\n",
      "ServerApp.rate_limit_window=3.0 (secs)\n",
      "\n"
     ]
    },
    {
     "name": "stdin",
     "output_type": "stream",
     "text": [
      "ipdb>  type(requests)\n"
     ]
    },
    {
     "name": "stdout",
     "output_type": "stream",
     "text": [
      "<class 'collections.defaultdict'>\n"
     ]
    },
    {
     "name": "stdin",
     "output_type": "stream",
     "text": [
      "ipdb>  requests.keys()\n"
     ]
    },
    {
     "name": "stdout",
     "output_type": "stream",
     "text": [
      "dict_keys(['loglikelihood'])\n"
     ]
    },
    {
     "name": "stdin",
     "output_type": "stream",
     "text": [
      "ipdb>  len(requests)\n"
     ]
    },
    {
     "name": "stdout",
     "output_type": "stream",
     "text": [
      "1\n"
     ]
    },
    {
     "name": "stdin",
     "output_type": "stream",
     "text": [
      "ipdb>  type(requests['requests'])\n"
     ]
    },
    {
     "name": "stdout",
     "output_type": "stream",
     "text": [
      "<class 'list'>\n"
     ]
    },
    {
     "name": "stdin",
     "output_type": "stream",
     "text": [
      "ipdb>  len(requests['requests'])\n"
     ]
    },
    {
     "name": "stdout",
     "output_type": "stream",
     "text": [
      "0\n"
     ]
    },
    {
     "name": "stdin",
     "output_type": "stream",
     "text": [
      "ipdb>  type(requests['loglikelihood'])\n"
     ]
    },
    {
     "name": "stdout",
     "output_type": "stream",
     "text": [
      "<class 'list'>\n"
     ]
    },
    {
     "name": "stdin",
     "output_type": "stream",
     "text": [
      "ipdb>  len(requests['loglikelihood'])\n"
     ]
    },
    {
     "name": "stdout",
     "output_type": "stream",
     "text": [
      "40168\n"
     ]
    },
    {
     "name": "stdin",
     "output_type": "stream",
     "text": [
      "ipdb>  tiny_reqs = requests['loglikelihood'][:10]\n",
      "ipdb>  tiny_reqs\n"
     ]
    },
    {
     "name": "stdout",
     "output_type": "stream",
     "text": [
      "[Instance(request_type='loglikelihood', doc={'ind': 24, 'activity_label': 'Roof shingle removal', 'ctx_a': 'A man is sitting on a roof.', 'ctx_b': 'he', 'ctx': 'A man is sitting on a roof. he', 'endings': ['is using wrap to wrap a pair of skis.', 'is ripping level tiles off.', \"is holding a rubik's cube.\", 'starts pulling up roofing on a roof.'], 'source_id': 'activitynet~v_-JhWjGDPHMY', 'split': 'val', 'split_type': 'indomain', 'label': '3', 'query': 'Roof shingle removal: A man is sitting on a roof. He', 'choices': ['is using wrap to wrap a pair of skis.', 'is ripping level tiles off.', \"is holding a rubik's cube.\", 'starts pulling up roofing on a roof.'], 'gold': 3}, arguments=('Roof shingle removal: A man is sitting on a roof. He', ' is using wrap to wrap a pair of skis.'), idx=0, metadata=('hellaswag', 0, 1), resps=[], filtered_resps={}, task_name='hellaswag', doc_id=0, repeats=1), Instance(request_type='loglikelihood', doc={'ind': 24, 'activity_label': 'Roof shingle removal', 'ctx_a': 'A man is sitting on a roof.', 'ctx_b': 'he', 'ctx': 'A man is sitting on a roof. he', 'endings': ['is using wrap to wrap a pair of skis.', 'is ripping level tiles off.', \"is holding a rubik's cube.\", 'starts pulling up roofing on a roof.'], 'source_id': 'activitynet~v_-JhWjGDPHMY', 'split': 'val', 'split_type': 'indomain', 'label': '3', 'query': 'Roof shingle removal: A man is sitting on a roof. He', 'choices': ['is using wrap to wrap a pair of skis.', 'is ripping level tiles off.', \"is holding a rubik's cube.\", 'starts pulling up roofing on a roof.'], 'gold': 3}, arguments=('Roof shingle removal: A man is sitting on a roof. He', ' is ripping level tiles off.'), idx=1, metadata=('hellaswag', 0, 1), resps=[], filtered_resps={}, task_name='hellaswag', doc_id=0, repeats=1), Instance(request_type='loglikelihood', doc={'ind': 24, 'activity_label': 'Roof shingle removal', 'ctx_a': 'A man is sitting on a roof.', 'ctx_b': 'he', 'ctx': 'A man is sitting on a roof. he', 'endings': ['is using wrap to wrap a pair of skis.', 'is ripping level tiles off.', \"is holding a rubik's cube.\", 'starts pulling up roofing on a roof.'], 'source_id': 'activitynet~v_-JhWjGDPHMY', 'split': 'val', 'split_type': 'indomain', 'label': '3', 'query': 'Roof shingle removal: A man is sitting on a roof. He', 'choices': ['is using wrap to wrap a pair of skis.', 'is ripping level tiles off.', \"is holding a rubik's cube.\", 'starts pulling up roofing on a roof.'], 'gold': 3}, arguments=('Roof shingle removal: A man is sitting on a roof. He', \" is holding a rubik's cube.\"), idx=2, metadata=('hellaswag', 0, 1), resps=[], filtered_resps={}, task_name='hellaswag', doc_id=0, repeats=1), Instance(request_type='loglikelihood', doc={'ind': 24, 'activity_label': 'Roof shingle removal', 'ctx_a': 'A man is sitting on a roof.', 'ctx_b': 'he', 'ctx': 'A man is sitting on a roof. he', 'endings': ['is using wrap to wrap a pair of skis.', 'is ripping level tiles off.', \"is holding a rubik's cube.\", 'starts pulling up roofing on a roof.'], 'source_id': 'activitynet~v_-JhWjGDPHMY', 'split': 'val', 'split_type': 'indomain', 'label': '3', 'query': 'Roof shingle removal: A man is sitting on a roof. He', 'choices': ['is using wrap to wrap a pair of skis.', 'is ripping level tiles off.', \"is holding a rubik's cube.\", 'starts pulling up roofing on a roof.'], 'gold': 3}, arguments=('Roof shingle removal: A man is sitting on a roof. He', ' starts pulling up roofing on a roof.'), idx=3, metadata=('hellaswag', 0, 1), resps=[], filtered_resps={}, task_name='hellaswag', doc_id=0, repeats=1), Instance(request_type='loglikelihood', doc={'ind': 92, 'activity_label': 'Clean and jerk', 'ctx_a': 'A lady walks to a barbell. She bends down and grabs the pole.', 'ctx_b': 'the lady', 'ctx': 'A lady walks to a barbell. She bends down and grabs the pole. the lady', 'endings': ['swings and lands in her arms.', 'pulls the barbell forward.', 'pulls a rope attached to the barbell.', 'stands and lifts the weight over her head.'], 'source_id': 'activitynet~v_-lJS58hyo1c', 'split': 'val', 'split_type': 'zeroshot', 'label': '3', 'query': 'Clean and jerk: A lady walks to a barbell. She bends down and grabs the pole. The lady', 'choices': ['swings and lands in her arms.', 'pulls the barbell forward.', 'pulls a rope attached to the barbell.', 'stands and lifts the weight over her head.'], 'gold': 3}, arguments=('Clean and jerk: A lady walks to a barbell. She bends down and grabs the pole. The lady', ' swings and lands in her arms.'), idx=0, metadata=('hellaswag', 1, 1), resps=[], filtered_resps={}, task_name='hellaswag', doc_id=1, repeats=1), Instance(request_type='loglikelihood', doc={'ind': 92, 'activity_label': 'Clean and jerk', 'ctx_a': 'A lady walks to a barbell. She bends down and grabs the pole.', 'ctx_b': 'the lady', 'ctx': 'A lady walks to a barbell. She bends down and grabs the pole. the lady', 'endings': ['swings and lands in her arms.', 'pulls the barbell forward.', 'pulls a rope attached to the barbell.', 'stands and lifts the weight over her head.'], 'source_id': 'activitynet~v_-lJS58hyo1c', 'split': 'val', 'split_type': 'zeroshot', 'label': '3', 'query': 'Clean and jerk: A lady walks to a barbell. She bends down and grabs the pole. The lady', 'choices': ['swings and lands in her arms.', 'pulls the barbell forward.', 'pulls a rope attached to the barbell.', 'stands and lifts the weight over her head.'], 'gold': 3}, arguments=('Clean and jerk: A lady walks to a barbell. She bends down and grabs the pole. The lady', ' pulls the barbell forward.'), idx=1, metadata=('hellaswag', 1, 1), resps=[], filtered_resps={}, task_name='hellaswag', doc_id=1, repeats=1), Instance(request_type='loglikelihood', doc={'ind': 92, 'activity_label': 'Clean and jerk', 'ctx_a': 'A lady walks to a barbell. She bends down and grabs the pole.', 'ctx_b': 'the lady', 'ctx': 'A lady walks to a barbell. She bends down and grabs the pole. the lady', 'endings': ['swings and lands in her arms.', 'pulls the barbell forward.', 'pulls a rope attached to the barbell.', 'stands and lifts the weight over her head.'], 'source_id': 'activitynet~v_-lJS58hyo1c', 'split': 'val', 'split_type': 'zeroshot', 'label': '3', 'query': 'Clean and jerk: A lady walks to a barbell. She bends down and grabs the pole. The lady', 'choices': ['swings and lands in her arms.', 'pulls the barbell forward.', 'pulls a rope attached to the barbell.', 'stands and lifts the weight over her head.'], 'gold': 3}, arguments=('Clean and jerk: A lady walks to a barbell. She bends down and grabs the pole. The lady', ' pulls a rope attached to the barbell.'), idx=2, metadata=('hellaswag', 1, 1), resps=[], filtered_resps={}, task_name='hellaswag', doc_id=1, repeats=1), Instance(request_type='loglikelihood', doc={'ind': 92, 'activity_label': 'Clean and jerk', 'ctx_a': 'A lady walks to a barbell. She bends down and grabs the pole.', 'ctx_b': 'the lady', 'ctx': 'A lady walks to a barbell. She bends down and grabs the pole. the lady', 'endings': ['swings and lands in her arms.', 'pulls the barbell forward.', 'pulls a rope attached to the barbell.', 'stands and lifts the weight over her head.'], 'source_id': 'activitynet~v_-lJS58hyo1c', 'split': 'val', 'split_type': 'zeroshot', 'label': '3', 'query': 'Clean and jerk: A lady walks to a barbell. She bends down and grabs the pole. The lady', 'choices': ['swings and lands in her arms.', 'pulls the barbell forward.', 'pulls a rope attached to the barbell.', 'stands and lifts the weight over her head.'], 'gold': 3}, arguments=('Clean and jerk: A lady walks to a barbell. She bends down and grabs the pole. The lady', ' stands and lifts the weight over her head.'), idx=3, metadata=('hellaswag', 1, 1), resps=[], filtered_resps={}, task_name='hellaswag', doc_id=1, repeats=1), Instance(request_type='loglikelihood', doc={'ind': 106, 'activity_label': 'Canoeing', 'ctx_a': 'Two women in a child are shown in a canoe while a man pulls the canoe while standing in the water, with other individuals visible in the background.', 'ctx_b': 'the child and a different man', 'ctx': 'Two women in a child are shown in a canoe while a man pulls the canoe while standing in the water, with other individuals visible in the background. the child and a different man', 'endings': ['are then shown paddling down a river in a boat while a woman talks.', 'are driving the canoe, they go down the river flowing side to side.', 'sit in a canoe while the man paddles.', 'walking go down the rapids, while the man in his helicopter almost falls and goes out of canoehood.'], 'source_id': 'activitynet~v_-xQvJmC2jhk', 'split': 'val', 'split_type': 'indomain', 'label': '2', 'query': 'Canoeing: Two women in a child are shown in a canoe while a man pulls the canoe while standing in the water, with other individuals visible in the background. The child and a different man', 'choices': ['are then shown paddling down a river in a boat while a woman talks.', 'are driving the canoe, they go down the river flowing side to side.', 'sit in a canoe while the man paddles.', 'walking go down the rapids, while the man in his helicopter almost falls and goes out of canoehood.'], 'gold': 2}, arguments=('Canoeing: Two women in a child are shown in a canoe while a man pulls the canoe while standing in the water, with other individuals visible in the background. The child and a different man', ' are then shown paddling down a river in a boat while a woman talks.'), idx=0, metadata=('hellaswag', 2, 1), resps=[], filtered_resps={}, task_name='hellaswag', doc_id=2, repeats=1), Instance(request_type='loglikelihood', doc={'ind': 106, 'activity_label': 'Canoeing', 'ctx_a': 'Two women in a child are shown in a canoe while a man pulls the canoe while standing in the water, with other individuals visible in the background.', 'ctx_b': 'the child and a different man', 'ctx': 'Two women in a child are shown in a canoe while a man pulls the canoe while standing in the water, with other individuals visible in the background. the child and a different man', 'endings': ['are then shown paddling down a river in a boat while a woman talks.', 'are driving the canoe, they go down the river flowing side to side.', 'sit in a canoe while the man paddles.', 'walking go down the rapids, while the man in his helicopter almost falls and goes out of canoehood.'], 'source_id': 'activitynet~v_-xQvJmC2jhk', 'split': 'val', 'split_type': 'indomain', 'label': '2', 'query': 'Canoeing: Two women in a child are shown in a canoe while a man pulls the canoe while standing in the water, with other individuals visible in the background. The child and a different man', 'choices': ['are then shown paddling down a river in a boat while a woman talks.', 'are driving the canoe, they go down the river flowing side to side.', 'sit in a canoe while the man paddles.', 'walking go down the rapids, while the man in his helicopter almost falls and goes out of canoehood.'], 'gold': 2}, arguments=('Canoeing: Two women in a child are shown in a canoe while a man pulls the canoe while standing in the water, with other individuals visible in the background. The child and a different man', ' are driving the canoe, they go down the river flowing side to side.'), idx=1, metadata=('hellaswag', 2, 1), resps=[], filtered_resps={}, task_name='hellaswag', doc_id=2, repeats=1)]\n"
     ]
    },
    {
     "name": "stdin",
     "output_type": "stream",
     "text": [
      "ipdb>  tiny_reqs = requests['loglikelihood'][:2]\n",
      "ipdb>  tiny_reqs\n"
     ]
    },
    {
     "name": "stdout",
     "output_type": "stream",
     "text": [
      "[Instance(request_type='loglikelihood', doc={'ind': 24, 'activity_label': 'Roof shingle removal', 'ctx_a': 'A man is sitting on a roof.', 'ctx_b': 'he', 'ctx': 'A man is sitting on a roof. he', 'endings': ['is using wrap to wrap a pair of skis.', 'is ripping level tiles off.', \"is holding a rubik's cube.\", 'starts pulling up roofing on a roof.'], 'source_id': 'activitynet~v_-JhWjGDPHMY', 'split': 'val', 'split_type': 'indomain', 'label': '3', 'query': 'Roof shingle removal: A man is sitting on a roof. He', 'choices': ['is using wrap to wrap a pair of skis.', 'is ripping level tiles off.', \"is holding a rubik's cube.\", 'starts pulling up roofing on a roof.'], 'gold': 3}, arguments=('Roof shingle removal: A man is sitting on a roof. He', ' is using wrap to wrap a pair of skis.'), idx=0, metadata=('hellaswag', 0, 1), resps=[], filtered_resps={}, task_name='hellaswag', doc_id=0, repeats=1), Instance(request_type='loglikelihood', doc={'ind': 24, 'activity_label': 'Roof shingle removal', 'ctx_a': 'A man is sitting on a roof.', 'ctx_b': 'he', 'ctx': 'A man is sitting on a roof. he', 'endings': ['is using wrap to wrap a pair of skis.', 'is ripping level tiles off.', \"is holding a rubik's cube.\", 'starts pulling up roofing on a roof.'], 'source_id': 'activitynet~v_-JhWjGDPHMY', 'split': 'val', 'split_type': 'indomain', 'label': '3', 'query': 'Roof shingle removal: A man is sitting on a roof. He', 'choices': ['is using wrap to wrap a pair of skis.', 'is ripping level tiles off.', \"is holding a rubik's cube.\", 'starts pulling up roofing on a roof.'], 'gold': 3}, arguments=('Roof shingle removal: A man is sitting on a roof. He', ' is ripping level tiles off.'), idx=1, metadata=('hellaswag', 0, 1), resps=[], filtered_resps={}, task_name='hellaswag', doc_id=0, repeats=1)]\n"
     ]
    },
    {
     "name": "stdin",
     "output_type": "stream",
     "text": [
      "ipdb>  print()\n"
     ]
    },
    {
     "name": "stdout",
     "output_type": "stream",
     "text": [
      "\n"
     ]
    },
    {
     "name": "stdin",
     "output_type": "stream",
     "text": [
      "ipdb>  print()\n"
     ]
    },
    {
     "name": "stdout",
     "output_type": "stream",
     "text": [
      "\n"
     ]
    },
    {
     "name": "stdin",
     "output_type": "stream",
     "text": [
      "ipdb>  tiny_reqs\n"
     ]
    },
    {
     "name": "stdout",
     "output_type": "stream",
     "text": [
      "[Instance(request_type='loglikelihood', doc={'ind': 24, 'activity_label': 'Roof shingle removal', 'ctx_a': 'A man is sitting on a roof.', 'ctx_b': 'he', 'ctx': 'A man is sitting on a roof. he', 'endings': ['is using wrap to wrap a pair of skis.', 'is ripping level tiles off.', \"is holding a rubik's cube.\", 'starts pulling up roofing on a roof.'], 'source_id': 'activitynet~v_-JhWjGDPHMY', 'split': 'val', 'split_type': 'indomain', 'label': '3', 'query': 'Roof shingle removal: A man is sitting on a roof. He', 'choices': ['is using wrap to wrap a pair of skis.', 'is ripping level tiles off.', \"is holding a rubik's cube.\", 'starts pulling up roofing on a roof.'], 'gold': 3}, arguments=('Roof shingle removal: A man is sitting on a roof. He', ' is using wrap to wrap a pair of skis.'), idx=0, metadata=('hellaswag', 0, 1), resps=[], filtered_resps={}, task_name='hellaswag', doc_id=0, repeats=1), Instance(request_type='loglikelihood', doc={'ind': 24, 'activity_label': 'Roof shingle removal', 'ctx_a': 'A man is sitting on a roof.', 'ctx_b': 'he', 'ctx': 'A man is sitting on a roof. he', 'endings': ['is using wrap to wrap a pair of skis.', 'is ripping level tiles off.', \"is holding a rubik's cube.\", 'starts pulling up roofing on a roof.'], 'source_id': 'activitynet~v_-JhWjGDPHMY', 'split': 'val', 'split_type': 'indomain', 'label': '3', 'query': 'Roof shingle removal: A man is sitting on a roof. He', 'choices': ['is using wrap to wrap a pair of skis.', 'is ripping level tiles off.', \"is holding a rubik's cube.\", 'starts pulling up roofing on a roof.'], 'gold': 3}, arguments=('Roof shingle removal: A man is sitting on a roof. He', ' is ripping level tiles off.'), idx=1, metadata=('hellaswag', 0, 1), resps=[], filtered_resps={}, task_name='hellaswag', doc_id=0, repeats=1)]\n"
     ]
    }
   ],
   "source": [
    "%debug"
   ]
  },
  {
   "cell_type": "code",
   "execution_count": null,
   "id": "f34d571b-fa1f-49a9-9e2f-2e12d97b29d9",
   "metadata": {},
   "outputs": [],
   "source": []
  }
 ],
 "metadata": {
  "kernelspec": {
   "display_name": "Python 3",
   "language": "python",
   "name": "python3"
  },
  "language_info": {
   "codemirror_mode": {
    "name": "ipython",
    "version": 3
   },
   "file_extension": ".py",
   "mimetype": "text/x-python",
   "name": "python",
   "nbconvert_exporter": "python",
   "pygments_lexer": "ipython3",
   "version": "3.10.10"
  }
 },
 "nbformat": 4,
 "nbformat_minor": 5
}
