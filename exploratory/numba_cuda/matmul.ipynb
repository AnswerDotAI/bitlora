{
 "cells": [
  {
   "cell_type": "markdown",
   "id": "43ec3352-4fc8-47b0-8e8a-32150f4c7094",
   "metadata": {},
   "source": [
    "In this notebook, I'll work through [this guide by Simon Boehm on fast matmul](https://siboehm.com/articles/22/CUDA-MMM)"
   ]
  },
  {
   "cell_type": "markdown",
   "id": "1f295efc-d39e-4b88-9f57-cf3e146eeb66",
   "metadata": {},
   "source": [
    "For simplicity, I'll use cuda from numba. According to [its documentation](https://numba.readthedocs.io/en/stable/cuda/overview.html#missing-cuda-features) it misses some cuda feature, but these features are not required for this guide:\n",
    "- [dynamic parallelism](https://docs.nvidia.com/cuda/cuda-c-programming-guide/index.html#cuda-dynamic-parallelism): use kernel function from kernel functions\n",
    "- [texture memory](https://docs.nvidia.com/cuda/cuda-c-programming-guide/index.html#texture-and-surface-memory): a special memory for graphics applucation"
   ]
  },
  {
   "cell_type": "markdown",
   "id": "327c18cc-8ffd-4f7a-8137-154060ff74d0",
   "metadata": {},
   "source": [
    "Let's start!"
   ]
  },
  {
   "cell_type": "markdown",
   "id": "92c86aa1-0e2a-4595-803e-f09d4e9bdf1b",
   "metadata": {},
   "source": [
    "----"
   ]
  },
  {
   "cell_type": "markdown",
   "id": "72431b4f-4f00-4635-a17d-e58813d0c99d",
   "metadata": {},
   "source": [
    "### Prep 1 - Use numba cuda"
   ]
  },
  {
   "cell_type": "code",
   "execution_count": 8,
   "id": "ca3bde69-e3d3-4592-897e-a40ccdf63657",
   "metadata": {},
   "outputs": [],
   "source": [
    "import os\n",
    "import numpy as np\n",
    "import matplotlib.pyplot as plt\n",
    "from fastcore.basics import tuplify\n",
    "\n",
    "#os.environ['NUMBA_ENABLE_CUDASIM']='1'  # enables simulator \n",
    "os.environ['CUDA_LAUNCH_BLOCKING']='1'\n",
    "\n",
    "from numba import cuda\n",
    "from util import to_d, to_h, array_like, cdiv\n",
    "\n",
    "np.set_printoptions(precision=2, linewidth=200)"
   ]
  },
  {
   "cell_type": "code",
   "execution_count": 9,
   "id": "cc6ecdaa-5646-4a0b-b040-e167549de2d1",
   "metadata": {},
   "outputs": [],
   "source": [
    "@cuda.jit\n",
    "def f(a, b, c):\n",
    "    tid = cuda.grid(1) # like threadIdx.x + (blockIdx.x * blockDim.x)\n",
    "    if tid >= len(c): return\n",
    "    c[tid] = a[tid] + b[tid]"
   ]
  },
  {
   "cell_type": "code",
   "execution_count": 10,
   "id": "963aa9c6-57a7-496b-8bbb-7e06e45b840d",
   "metadata": {},
   "outputs": [],
   "source": [
    "n = 30\n",
    "a = to_d(np.ones(n))\n",
    "b = to_d(np.ones(n))\n",
    "c = array_like(a)"
   ]
  },
  {
   "cell_type": "code",
   "execution_count": 11,
   "id": "fa9a5ef3-bb93-4d78-b0fa-ece88f1a13e7",
   "metadata": {},
   "outputs": [
    {
     "name": "stderr",
     "output_type": "stream",
     "text": [
      "/home/zeus/miniconda3/envs/cloudspace/lib/python3.10/site-packages/numba/cuda/dispatcher.py:536: NumbaPerformanceWarning: Grid size 4 will likely result in GPU under-utilization due to low occupancy.\n",
      "  warn(NumbaPerformanceWarning(msg))\n"
     ]
    }
   ],
   "source": [
    "nthreads = 8\n",
    "nblocks = (len(a) // nthreads) + 1\n",
    "f[nblocks, nthreads](a, b, c)\n",
    "c = to_h(c)"
   ]
  },
  {
   "cell_type": "code",
   "execution_count": 12,
   "id": "bedd865d-85f1-43a7-acba-2218987b5ac7",
   "metadata": {},
   "outputs": [
    {
     "data": {
      "text/plain": [
       "array([2., 2., 2., 2., 2., 2., 2., 2., 2., 2., 2., 2., 2., 2., 2., 2., 2., 2., 2., 2., 2., 2., 2., 2., 2., 2., 2., 2., 2., 2.])"
      ]
     },
     "execution_count": 12,
     "metadata": {},
     "output_type": "execute_result"
    }
   ],
   "source": [
    "c"
   ]
  },
  {
   "cell_type": "code",
   "execution_count": null,
   "id": "65557bc5-2789-4e6b-93f9-616c84da31c8",
   "metadata": {},
   "outputs": [],
   "source": []
  },
  {
   "cell_type": "markdown",
   "id": "a7f079f1-60da-4a7f-8c60-210065b5d8e6",
   "metadata": {},
   "source": [
    "### Prep 2 - Profiling numba cuda"
   ]
  },
  {
   "cell_type": "markdown",
   "id": "9780f4dc-9280-4818-9020-2b3d749bb521",
   "metadata": {},
   "source": [
    "There are 2 profiling options:\n",
    "1. **Simple:** This measures the cuda runtime of a kernel\n",
    "2. **Detailled:** This performs a detailled analysis of the kernel run, and gives hints how the kernel could be improved\n",
    "\n",
    "I can do **simple** profiling in a notebook, which I'll do.\n",
    "\n",
    "For **detailled** profiling, I can use 'nsight compute' (a program by nvidia; short name 'ncu'), which requires the code to be in a separate file, so can't be done in jupyter.\n",
    "\n",
    "I can then use `ncu --set full --import-source yes -f -o <output_location> --page details python3 <python_filename>` for profiling. Then I can either look a the the console output for a quick analysis, or load the output into the nsight compute ui program (which I've downloaded) for more details.\n",
    "\n",
    "_Note: I could do detailled profiling in jupyter with `%%writefile <py_filename>`, `%run  <py_filename>` and `!ncu ...`, but I don't see the benefit._"
   ]
  },
  {
   "cell_type": "code",
   "execution_count": 21,
   "id": "a35bccdd-3644-431d-a769-0bcb28c22fb0",
   "metadata": {},
   "outputs": [],
   "source": [
    "from torch.profiler import profile, record_function, ProfilerActivity\n",
    "from torch.profiler import schedule as profiler_schedule\n",
    "from torch import allclose, tensor"
   ]
  },
  {
   "cell_type": "code",
   "execution_count": 23,
   "id": "d8ca2283-2f11-467b-b412-c097a4715c10",
   "metadata": {},
   "outputs": [],
   "source": [
    "def cuda_mean_runtime(prof_log, kernel_name, do_print=False):\n",
    "    # extract cuda mean runtime from a torch.profiler log\n",
    "    kernels = [o for o in prof_log.key_averages() if kernel_name in o.key]\n",
    "    names = [k.key for k in kernels]\n",
    "    if len(names)==0: raise RuntimeError(f\"Profiling logs have no kernel with 'f{kernel_name}' in its name\")\n",
    "    if len(names)>1: raise RuntimeError(f\"Profiling logs have multiple kernel with 'f{kernel_name}' in its name: f{names}. Please be more precise.\")\n",
    "    mean_runtime = kernels[0].cuda_time/1e3 # use ms instea of µs\n",
    "    if do_print: print(f'{mean_runtime/1e3:.3f}s') # print in s\n",
    "    return mean_runtime\n",
    "\n",
    "def assert_matmul_correct(a,b,c): assert allclose(tensor(to_h(c)), tensor(a)@tensor(b)), 'c != a@b -- mamtul kernel seems to be incorrect, as its output differs from torch'\n",
    "\n",
    "def measure_runtime(kernel, m=4092,n=4092,k=4092, bs=32, do_print=True, runs=5):\n",
    "    print(f'Measuring runtime of kernel {kernel.__name__} for m,n,k = {m},{n},{k}, averaging over {runs} runs.')\n",
    "    a = to_d(np.ones((m,k)))\n",
    "    b = to_d(np.ones((k,n)))\n",
    "    with profile(activities=[ProfilerActivity.CUDA], schedule=profiler_schedule(wait=0, warmup=1, active=2, repeat=1)) as prof:\n",
    "        for _ in range(runs):\n",
    "            c = to_d(np.empty((m,n)))\n",
    "            nthreads = (bs,bs)\n",
    "            nblocks = cdiv(c.shape, nthreads)\n",
    "            kernel[nblocks, nthreads](a,b,c)\n",
    "            prof.step()\n",
    "    assert_matmul_correct(a,b,c)\n",
    "    cuda_mean_runtime(prof, kernel.__name__, do_print=do_print)"
   ]
  },
  {
   "cell_type": "markdown",
   "id": "ec382149-abca-44f8-be7c-b96d94339b03",
   "metadata": {},
   "source": [
    "_Note: I've tested this code in simple_profily.ipynb_"
   ]
  },
  {
   "cell_type": "code",
   "execution_count": null,
   "id": "e3ac6177-9027-4c7f-9cf7-d918594b6c7f",
   "metadata": {},
   "outputs": [],
   "source": []
  },
  {
   "cell_type": "markdown",
   "id": "f5f8125f-3997-4885-bdb7-5f4681f05319",
   "metadata": {},
   "source": [
    "### Kernel 1: Naive Implementation"
   ]
  },
  {
   "cell_type": "code",
   "execution_count": 24,
   "id": "9ada25b0-de14-4169-8133-77b798ca6bb5",
   "metadata": {},
   "outputs": [],
   "source": [
    "m,n,k = 2,4,3\n",
    "\n",
    "a = to_d(np.ones((m,k)))\n",
    "b = to_d(np.ones((k,n)))\n",
    "def fresh_c(): return to_d(np.empty((m,n)))"
   ]
  },
  {
   "cell_type": "code",
   "execution_count": 25,
   "id": "5fdecc2a-1a28-45c8-97cc-4cecd2ec3911",
   "metadata": {},
   "outputs": [],
   "source": [
    "@cuda.jit()\n",
    "def matmul_1(a,b,c):\n",
    "    tid_x, tid_y = cuda.grid(2)\n",
    "    m,n = c.shape\n",
    "    k = a.shape[1]\n",
    "    if tid_x >= m or tid_y >= n: return \n",
    "    tmp = 0\n",
    "    for i in range(k):\n",
    "        tmp += a[tid_x, i] * b[i, tid_y]        \n",
    "    c[tid_x, tid_y] = tmp"
   ]
  },
  {
   "cell_type": "code",
   "execution_count": 26,
   "id": "de258ade-358a-49e1-9502-cfc962201b3e",
   "metadata": {},
   "outputs": [],
   "source": [
    "c = fresh_c()"
   ]
  },
  {
   "cell_type": "code",
   "execution_count": 27,
   "id": "2830abf8-a49e-463c-b933-147dc127aa42",
   "metadata": {},
   "outputs": [
    {
     "data": {
      "text/plain": [
       "((32, 32), (1, 1))"
      ]
     },
     "execution_count": 27,
     "metadata": {},
     "output_type": "execute_result"
    }
   ],
   "source": [
    "nthreads = (32,32)\n",
    "nblocks = cdiv(c.shape, nthreads)\n",
    "\n",
    "nthreads, nblocks"
   ]
  },
  {
   "cell_type": "code",
   "execution_count": 28,
   "id": "530a3b39-5203-4af2-b466-61e2d1eeb88a",
   "metadata": {},
   "outputs": [
    {
     "name": "stderr",
     "output_type": "stream",
     "text": [
      "/home/zeus/miniconda3/envs/cloudspace/lib/python3.10/site-packages/numba/cuda/dispatcher.py:536: NumbaPerformanceWarning: Grid size 1 will likely result in GPU under-utilization due to low occupancy.\n",
      "  warn(NumbaPerformanceWarning(msg))\n"
     ]
    },
    {
     "data": {
      "text/plain": [
       "array([[3., 3., 3., 3.],\n",
       "       [3., 3., 3., 3.]])"
      ]
     },
     "execution_count": 28,
     "metadata": {},
     "output_type": "execute_result"
    }
   ],
   "source": [
    "matmul_1[nblocks, nthreads](a,b,c)\n",
    "to_h(c)"
   ]
  },
  {
   "cell_type": "code",
   "execution_count": null,
   "id": "18076001-a8ca-4e52-a5f9-f134c5999308",
   "metadata": {},
   "outputs": [],
   "source": []
  },
  {
   "cell_type": "code",
   "execution_count": 29,
   "id": "bdf8c54a-f543-4f14-a0a3-f355d8b265d4",
   "metadata": {},
   "outputs": [
    {
     "name": "stdout",
     "output_type": "stream",
     "text": [
      "Measuring runtime of kernel matmul_1 for m,n,k = 4092,4092,4092, averaging over 5 runs.\n"
     ]
    },
    {
     "name": "stderr",
     "output_type": "stream",
     "text": [
      "STAGE:2024-05-01 16:06:47 3256:3256 ActivityProfilerController.cpp:314] Completed Stage: Warm Up\n",
      "STAGE:2024-05-01 16:06:51 3256:3256 ActivityProfilerController.cpp:320] Completed Stage: Collection\n",
      "STAGE:2024-05-01 16:06:51 3256:3256 ActivityProfilerController.cpp:324] Completed Stage: Post Processing\n"
     ]
    },
    {
     "name": "stdout",
     "output_type": "stream",
     "text": [
      "2.042s\n"
     ]
    }
   ],
   "source": [
    "measure_runtime(matmul_1);"
   ]
  },
  {
   "cell_type": "code",
   "execution_count": null,
   "id": "332655bb-1fea-48d5-9b22-33a1f4a215f3",
   "metadata": {},
   "outputs": [],
   "source": []
  },
  {
   "cell_type": "markdown",
   "id": "92a5452d-8c89-4354-bfa5-1c8945b9e385",
   "metadata": {},
   "source": [
    "### Kernel 2: Global Memory Coalescing"
   ]
  },
  {
   "cell_type": "code",
   "execution_count": null,
   "id": "a40db211-a646-4a49-8a28-ecf202cdc98b",
   "metadata": {},
   "outputs": [],
   "source": []
  },
  {
   "cell_type": "markdown",
   "id": "0e74b7e1-43a9-4d1f-a8ad-97711e87f4b0",
   "metadata": {},
   "source": [
    "### Kernel 3: Shared Memory Cache-Blocking"
   ]
  },
  {
   "cell_type": "code",
   "execution_count": null,
   "id": "965b9622-f1c6-4806-b3ef-2bc53c7469ff",
   "metadata": {},
   "outputs": [],
   "source": []
  },
  {
   "cell_type": "markdown",
   "id": "2912eec7-2e46-4a83-b37b-3762fb8ca847",
   "metadata": {},
   "source": [
    "### Kernel 4: 1D Blocktiling for Calculating Multiple Results per Thread"
   ]
  },
  {
   "cell_type": "code",
   "execution_count": null,
   "id": "e3c36e2c-5fa2-420d-a5be-56658cac4e4b",
   "metadata": {},
   "outputs": [],
   "source": []
  },
  {
   "cell_type": "markdown",
   "id": "c896036a-ed60-44b5-97ce-625524578986",
   "metadata": {},
   "source": [
    "### Kernel 5: Increasing Arithmetic Intensity via 2D Blocktiling"
   ]
  },
  {
   "cell_type": "code",
   "execution_count": null,
   "id": "96f5f84a-a389-4648-924e-14a971465a36",
   "metadata": {},
   "outputs": [],
   "source": []
  },
  {
   "cell_type": "markdown",
   "id": "193c5be6-0d67-45de-a19d-bbff8b56c309",
   "metadata": {},
   "source": [
    "### Kernel 6: Vectorize SMEM and GMEM Accesses"
   ]
  },
  {
   "cell_type": "code",
   "execution_count": null,
   "id": "cd2a9e2e-292c-41d7-a833-b5e7188ab2e4",
   "metadata": {},
   "outputs": [],
   "source": []
  },
  {
   "cell_type": "markdown",
   "id": "20e9596c-b111-415c-ade4-4731234e6ff4",
   "metadata": {},
   "source": [
    "### Where are kernels 7 & 8??"
   ]
  },
  {
   "cell_type": "code",
   "execution_count": null,
   "id": "78841719-11af-4453-bd4f-98345eefc420",
   "metadata": {},
   "outputs": [],
   "source": []
  },
  {
   "cell_type": "markdown",
   "id": "506343f8-194e-405c-a396-b81a0b3d2bb4",
   "metadata": {},
   "source": [
    "### Kernel 9: Autotuning"
   ]
  },
  {
   "cell_type": "code",
   "execution_count": null,
   "id": "ceb2eb51-ff8c-4d8d-a6e6-ba55ed551dee",
   "metadata": {},
   "outputs": [],
   "source": []
  },
  {
   "cell_type": "markdown",
   "id": "d19e526e-e981-473e-ad27-76d3fc423349",
   "metadata": {},
   "source": [
    "### Kernel 10: Warptiling"
   ]
  },
  {
   "cell_type": "code",
   "execution_count": null,
   "id": "35f11845-2308-486d-b4cf-8da562132187",
   "metadata": {},
   "outputs": [],
   "source": []
  },
  {
   "cell_type": "markdown",
   "id": "62c2eee5-ec07-45a8-abbb-6907fe5ac554",
   "metadata": {},
   "source": [
    "### wip - Kernel 11"
   ]
  },
  {
   "cell_type": "code",
   "execution_count": null,
   "id": "d84d4fb4-d3c4-4841-bb55-524f745dacfa",
   "metadata": {},
   "outputs": [],
   "source": []
  }
 ],
 "metadata": {
  "kernelspec": {
   "display_name": "Python 3",
   "language": "python",
   "name": "python3"
  },
  "language_info": {
   "codemirror_mode": {
    "name": "ipython",
    "version": 3
   },
   "file_extension": ".py",
   "mimetype": "text/x-python",
   "name": "python",
   "nbconvert_exporter": "python",
   "pygments_lexer": "ipython3",
   "version": "3.10.10"
  }
 },
 "nbformat": 4,
 "nbformat_minor": 5
}
