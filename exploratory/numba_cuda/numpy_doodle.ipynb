{
 "cells": [
  {
   "cell_type": "markdown",
   "id": "f575b3f6-dd0a-4871-8dc4-cd5e4d299624",
   "metadata": {},
   "source": [
    "I have the suspicion that numpy-indexing is different from indexing into matrices in maths.\n",
    "\n",
    "In math: a[col,row]. **Q:** In numpy a[row,col]?"
   ]
  },
  {
   "cell_type": "code",
   "execution_count": 1,
   "id": "522e6426-1a4f-4d5e-906e-5415985142a8",
   "metadata": {},
   "outputs": [],
   "source": [
    "import numpy as np"
   ]
  },
  {
   "cell_type": "code",
   "execution_count": 7,
   "id": "1c500152-b5ee-4970-92e7-82606478aa2b",
   "metadata": {},
   "outputs": [
    {
     "data": {
      "text/plain": [
       "array([[0, 1, 2],\n",
       "       [3, 4, 5],\n",
       "       [6, 7, 8]])"
      ]
     },
     "execution_count": 7,
     "metadata": {},
     "output_type": "execute_result"
    }
   ],
   "source": [
    "a = np.arange(9).reshape(3,3)\n",
    "a"
   ]
  },
  {
   "cell_type": "code",
   "execution_count": 11,
   "id": "82c96d67-59dc-45ac-8075-849b3d689f3a",
   "metadata": {},
   "outputs": [
    {
     "data": {
      "text/plain": [
       "3"
      ]
     },
     "execution_count": 11,
     "metadata": {},
     "output_type": "execute_result"
    }
   ],
   "source": [
    "a[1,0]"
   ]
  },
  {
   "cell_type": "code",
   "execution_count": 12,
   "id": "b61369ed-e88d-48be-b878-e830ab512bd9",
   "metadata": {},
   "outputs": [
    {
     "name": "stdout",
     "output_type": "stream",
     "text": [
      "First index row, Second index is col\n"
     ]
    }
   ],
   "source": [
    "if a[1,0]==3: print('First index row, Second index is col')\n",
    "if a[1,0]==1: print('First index col, Second index is row')"
   ]
  },
  {
   "cell_type": "markdown",
   "id": "be94c329-88f9-4aa6-8c21-7305cead3604",
   "metadata": {},
   "source": [
    "**A:** Yes"
   ]
  },
  {
   "cell_type": "code",
   "execution_count": null,
   "id": "2bc09396-1f73-4744-a30c-6abb76e3c0cb",
   "metadata": {},
   "outputs": [],
   "source": []
  }
 ],
 "metadata": {
  "kernelspec": {
   "display_name": "Python 3",
   "language": "python",
   "name": "python3"
  },
  "language_info": {
   "codemirror_mode": {
    "name": "ipython",
    "version": 3
   },
   "file_extension": ".py",
   "mimetype": "text/x-python",
   "name": "python",
   "nbconvert_exporter": "python",
   "pygments_lexer": "ipython3",
   "version": "3.10.10"
  }
 },
 "nbformat": 4,
 "nbformat_minor": 5
}
