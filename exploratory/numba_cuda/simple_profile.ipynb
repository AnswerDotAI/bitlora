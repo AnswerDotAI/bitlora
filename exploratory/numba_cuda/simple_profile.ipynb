{
 "cells": [
  {
   "cell_type": "markdown",
   "id": "c7f2f93e-987d-42f0-96ed-b96c4c9b8fa7",
   "metadata": {},
   "source": [
    "Let's learn how to easily profile a cuda kernel, ie measure its runtime."
   ]
  },
  {
   "cell_type": "markdown",
   "id": "c45c6850-76b1-4b56-8480-241d5be6f71b",
   "metadata": {},
   "source": [
    "**Setup**"
   ]
  },
  {
   "cell_type": "code",
   "execution_count": 1,
   "id": "b9c84c19-fdb8-4da1-9e18-f738402d45f5",
   "metadata": {},
   "outputs": [],
   "source": [
    "import numpy as np\n",
    "from fastcore.basics import tuplify\n",
    "import torch\n",
    "from torch.profiler import profile, record_function, ProfilerActivity\n",
    "from torch.profiler import schedule as profiler_schedule\n",
    "from torch import allclose\n",
    "\n",
    "from numba import cuda\n",
    "from util import to_d, to_h, array_like, cdiv"
   ]
  },
  {
   "cell_type": "code",
   "execution_count": null,
   "id": "cd883f66-a1d8-4627-893f-274442af3845",
   "metadata": {},
   "outputs": [],
   "source": []
  },
  {
   "cell_type": "code",
   "execution_count": 2,
   "id": "5adea887-d60a-4a5b-8b15-18073a2534f8",
   "metadata": {},
   "outputs": [],
   "source": [
    "m,n,k = 4092,4092,4092\n",
    "\n",
    "a = to_d(np.ones((m,k)))\n",
    "b = to_d(np.ones((k,n)))\n",
    "def fresh_c(): return to_d(np.empty((m,n)))\n",
    "c = fresh_c()\n",
    "\n",
    "@cuda.jit(lineinfo=True)\n",
    "def naive_matmul(a,b,c):\n",
    "    tid_x, tid_y = cuda.grid(2)\n",
    "    m,n = c.shape\n",
    "    k = a.shape[1]\n",
    "    if tid_x >= m or tid_y >= n: return \n",
    "    tmp = 0\n",
    "    for i in range(k):\n",
    "        tmp += a[tid_x, i] * b[i, tid_y]        \n",
    "    c[tid_x, tid_y] = tmp"
   ]
  },
  {
   "cell_type": "markdown",
   "id": "06e2e5ee-34f3-4dc7-8f84-9d46c41ee0bd",
   "metadata": {},
   "source": [
    "**Warmup**"
   ]
  },
  {
   "cell_type": "code",
   "execution_count": 3,
   "id": "3958cadf-d0cf-4052-abb4-5f9a45459c2a",
   "metadata": {},
   "outputs": [
    {
     "name": "stdout",
     "output_type": "stream",
     "text": [
      "Using (128, 128) blocks of size (32, 32)\n"
     ]
    },
    {
     "name": "stderr",
     "output_type": "stream",
     "text": [
      "/home/zeus/miniconda3/envs/cloudspace/lib/python3.10/site-packages/numba/core/lowering.py:112: NumbaDebugInfoWarning: Could not find source for function: <function naive_matmul at 0x7f758778c670>. Debug line information may be inaccurate.\n",
      "  warnings.warn(NumbaDebugInfoWarning(msg))\n"
     ]
    }
   ],
   "source": [
    "nthreads = (32,32)\n",
    "nblocks = cdiv(c.shape, nthreads)\n",
    "print(f'Using {nblocks} blocks of size {nthreads}')\n",
    "\n",
    "for _ in range(5):\n",
    "    c = fresh_c()\n",
    "    naive_matmul[nblocks, nthreads](a,b,c)"
   ]
  },
  {
   "cell_type": "code",
   "execution_count": 4,
   "id": "03b8b6e3-3f68-467c-8c34-58563d262692",
   "metadata": {},
   "outputs": [],
   "source": [
    "assert allclose(torch.tensor(to_h(c)), torch.tensor(a)@torch.tensor(b))"
   ]
  },
  {
   "cell_type": "markdown",
   "id": "38187a34-fdb0-43ef-8c79-28ff16141b0b",
   "metadata": {},
   "source": [
    "**Profile**"
   ]
  },
  {
   "cell_type": "code",
   "execution_count": 14,
   "id": "39f5f852-87dc-4d17-b74a-45a98f4297e9",
   "metadata": {},
   "outputs": [
    {
     "name": "stderr",
     "output_type": "stream",
     "text": [
      "STAGE:2024-05-01 14:28:40 4970:4970 ActivityProfilerController.cpp:314] Completed Stage: Warm Up\n",
      "STAGE:2024-05-01 14:28:47 4970:4970 ActivityProfilerController.cpp:320] Completed Stage: Collection\n",
      "STAGE:2024-05-01 14:28:47 4970:4970 ActivityProfilerController.cpp:324] Completed Stage: Post Processing\n"
     ]
    }
   ],
   "source": [
    "with profile(\n",
    "    activities=[ProfilerActivity.CUDA], \n",
    "    schedule=profiler_schedule(wait=0, warmup=1, active=2, repeat=1) # uncommenting this line prevents logging cuda - why? setting it to wait=1 even prevents cpu logging - why?\n",
    ") as prof:\n",
    "    for _ in range(5):\n",
    "        c = fresh_c()\n",
    "        naive_matmul[nblocks, nthreads](a,b,c)\n",
    "        prof.step()"
   ]
  },
  {
   "cell_type": "code",
   "execution_count": 15,
   "id": "4811c699-e529-4ad7-8b30-72e19b1fa211",
   "metadata": {},
   "outputs": [
    {
     "name": "stdout",
     "output_type": "stream",
     "text": [
      "-------------------------------------------------------  ------------  ------------  ------------  ------------  ------------  ------------  ------------  ------------  ------------  ------------  \n",
      "                                                   Name    Self CPU %      Self CPU   CPU total %     CPU total  CPU time avg     Self CUDA   Self CUDA %    CUDA total  CUDA time avg    # of Calls  \n",
      "-------------------------------------------------------  ------------  ------------  ------------  ------------  ------------  ------------  ------------  ------------  ------------  ------------  \n",
      "                                  cudaDeviceSynchronize       100.00%        2.087s       100.00%        2.087s        2.087s       0.000us         0.00%       0.000us       0.000us             1  \n",
      "                                         cuLaunchKernel         0.00%      58.000us         0.00%      58.000us      29.000us       0.000us         0.00%       0.000us       0.000us             2  \n",
      "                       Memcpy HtoD (Pageable -> Device)         0.00%       0.000us         0.00%       0.000us       0.000us      51.565ms         1.22%      51.565ms      25.782ms             2  \n",
      "cudapy::__main__::naive_matmul[abi:v1][abi:cw51cXTLS...         0.00%       0.000us         0.00%       0.000us       0.000us        4.173s        98.78%        4.173s        2.086s             2  \n",
      "-------------------------------------------------------  ------------  ------------  ------------  ------------  ------------  ------------  ------------  ------------  ------------  ------------  \n",
      "Self CPU time total: 2.087s\n",
      "Self CUDA time total: 4.224s\n",
      "\n"
     ]
    }
   ],
   "source": [
    "print(prof.key_averages().table(sort_by=\"cpu_time_total\", row_limit=10))"
   ]
  },
  {
   "cell_type": "code",
   "execution_count": 27,
   "id": "fc05c43a-52c4-4885-9436-efe02de63242",
   "metadata": {},
   "outputs": [],
   "source": [
    "def cuda_mean_runtime(prof, kernel_name, do_print=False):\n",
    "    kernels = [o for o in prof.key_averages() if kernel_name in o.key]\n",
    "    names = [k.key for k in kernels]\n",
    "    if len(names)==0: raise RuntimeError(f\"Profiling logs have no kernel with 'f{kernel_name}' in its name\")\n",
    "    if len(names)>1: raise RuntimeError(f\"Profiling logs have multiple kernel with 'f{kernel_name}' in its name: f{names}. Please be more precise.\")\n",
    "    mean_runtime = kernels[0].cuda_time / 1e3 # use ms instea of µs\n",
    "    if do_print: print(f'{mean_runtime/1e3:.3f}s') # print in s\n",
    "    return mean_runtime"
   ]
  },
  {
   "cell_type": "code",
   "execution_count": 28,
   "id": "8c1863c7-e4ba-45d5-ab98-6eb7aff911c4",
   "metadata": {},
   "outputs": [
    {
     "name": "stdout",
     "output_type": "stream",
     "text": [
      "2.012s\n"
     ]
    }
   ],
   "source": [
    "cuda_mean_runtime(prof, 'matmul', do_print=True);"
   ]
  },
  {
   "cell_type": "code",
   "execution_count": null,
   "id": "3c9bc574-1bc6-4ed4-b492-f8999d8754a5",
   "metadata": {},
   "outputs": [],
   "source": []
  },
  {
   "cell_type": "code",
   "execution_count": null,
   "id": "f5b8a5e7-2998-4cf6-8b5f-8a48151411b8",
   "metadata": {},
   "outputs": [],
   "source": []
  }
 ],
 "metadata": {
  "kernelspec": {
   "display_name": "Python 3",
   "language": "python",
   "name": "python3"
  },
  "language_info": {
   "codemirror_mode": {
    "name": "ipython",
    "version": 3
   },
   "file_extension": ".py",
   "mimetype": "text/x-python",
   "name": "python",
   "nbconvert_exporter": "python",
   "pygments_lexer": "ipython3",
   "version": "3.10.10"
  }
 },
 "nbformat": 4,
 "nbformat_minor": 5
}
