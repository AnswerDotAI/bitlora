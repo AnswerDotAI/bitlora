{
 "cells": [
  {
   "cell_type": "markdown",
   "id": "2e2e05db-06ee-427d-9eca-a9ec67c4e27c",
   "metadata": {},
   "source": [
    "In this nb, I play around with my numba-cuda version of matmul_2. It runs at ~1.2s, but should run at ~200ms.\n",
    "\n",
    "**Hypothesis:** I made simple code changes (compared to cuda-c version) which should not change the runtime, but do.<br/>\n",
    "**Result:** At least for the 4 code changes identified, that's not the case; ie the runtime is still slow."
   ]
  },
  {
   "cell_type": "code",
   "execution_count": 1,
   "id": "ca3bde69-e3d3-4592-897e-a40ccdf63657",
   "metadata": {},
   "outputs": [],
   "source": [
    "import os\n",
    "os.environ['CUDA_LAUNCH_BLOCKING']='1' # disabling this doesn't change cuda runtime\n",
    "\n",
    "import numpy as np\n",
    "from numba import cuda\n",
    "from util import cdiv, measure_runtime"
   ]
  },
  {
   "cell_type": "code",
   "execution_count": null,
   "id": "19a5c37f-2aa1-4120-99e5-5d4cac904ed8",
   "metadata": {},
   "outputs": [],
   "source": []
  },
  {
   "cell_type": "code",
   "execution_count": 2,
   "id": "64adef7d-8857-453c-a3f5-f2364e1a453c",
   "metadata": {},
   "outputs": [],
   "source": [
    "@cuda.jit()\n",
    "def original(a,b,c,m,n,k,bs):\n",
    "    # we defined blocks of size bs*bs\n",
    "    x = cuda.blockIdx.x * bs + (cuda.threadIdx.x // bs)\n",
    "    y = cuda.blockIdx.y * bs + (cuda.threadIdx.x % bs)\n",
    "    if x>=m or y>=n: return \n",
    "    tmp = 0\n",
    "    for i in range(k): tmp += a[x,i] * b[i,y]\n",
    "    c[x, y] = tmp"
   ]
  },
  {
   "cell_type": "code",
   "execution_count": 3,
   "id": "17c64e3b-4199-48b6-af26-d0738dfb9e59",
   "metadata": {},
   "outputs": [
    {
     "name": "stdout",
     "output_type": "stream",
     "text": [
      "Measuring runtime of kernel original for m,n,k = 4092,4092,4092, averaging over 3 runs.\n"
     ]
    },
    {
     "name": "stderr",
     "output_type": "stream",
     "text": [
      "STAGE:2024-05-05 14:43:59 130288:130288 ActivityProfilerController.cpp:314] Completed Stage: Warm Up\n",
      "STAGE:2024-05-05 14:44:03 130288:130288 ActivityProfilerController.cpp:320] Completed Stage: Collection\n",
      "STAGE:2024-05-05 14:44:03 130288:130288 ActivityProfilerController.cpp:324] Completed Stage: Post Processing\n"
     ]
    },
    {
     "name": "stdout",
     "output_type": "stream",
     "text": [
      "1.256s\n"
     ]
    }
   ],
   "source": [
    "measure_runtime(\n",
    "    original,\n",
    "    nthreads=32*32,nblocks_fn=lambda outp_shape,nthreads: cdiv(outp_shape, (32,32)),\n",
    "    kernel_args=[32]\n",
    ");"
   ]
  },
  {
   "cell_type": "code",
   "execution_count": null,
   "id": "037668bd-8705-4434-b99b-b578d5b735d8",
   "metadata": {},
   "outputs": [],
   "source": []
  },
  {
   "cell_type": "code",
   "execution_count": null,
   "id": "a457e0b1-09d7-4424-afcb-30b5a2fa7286",
   "metadata": {},
   "outputs": [],
   "source": []
  },
  {
   "cell_type": "code",
   "execution_count": 4,
   "id": "ad10aca2-e73a-458b-973a-88f73338f392",
   "metadata": {},
   "outputs": [],
   "source": [
    "# fixed bs\n",
    "@cuda.jit()\n",
    "def variant2(a,b,c,m,n,k):\n",
    "    bs = 32\n",
    "    # we defined blocks of size bs*bs\n",
    "    x = cuda.blockIdx.x * bs + (cuda.threadIdx.x // bs)\n",
    "    y = cuda.blockIdx.y * bs + (cuda.threadIdx.x % bs)\n",
    "    if x>=m or y>=n: return \n",
    "    tmp = 0\n",
    "    for i in range(k): tmp += a[x,i] * b[i,y]\n",
    "    c[x, y] = tmp"
   ]
  },
  {
   "cell_type": "code",
   "execution_count": 5,
   "id": "10d5a216-4c32-4316-b258-932c0ca41aad",
   "metadata": {},
   "outputs": [
    {
     "name": "stdout",
     "output_type": "stream",
     "text": [
      "Measuring runtime of kernel variant2 for m,n,k = 4092,4092,4092, averaging over 3 runs.\n"
     ]
    },
    {
     "name": "stderr",
     "output_type": "stream",
     "text": [
      "STAGE:2024-05-05 14:44:06 130288:130288 ActivityProfilerController.cpp:314] Completed Stage: Warm Up\n",
      "STAGE:2024-05-05 14:44:10 130288:130288 ActivityProfilerController.cpp:320] Completed Stage: Collection\n",
      "STAGE:2024-05-05 14:44:10 130288:130288 ActivityProfilerController.cpp:324] Completed Stage: Post Processing\n"
     ]
    },
    {
     "name": "stdout",
     "output_type": "stream",
     "text": [
      "1.261s\n"
     ]
    }
   ],
   "source": [
    "measure_runtime(\n",
    "    variant2,\n",
    "    nthreads=32*32,nblocks_fn=lambda outp_shape,nthreads: cdiv(outp_shape, (32,32)),\n",
    ");"
   ]
  },
  {
   "cell_type": "code",
   "execution_count": null,
   "id": "5beb77cf-d51b-4f55-9148-65330e9f1edc",
   "metadata": {},
   "outputs": [],
   "source": []
  },
  {
   "cell_type": "code",
   "execution_count": null,
   "id": "be7554d0-570d-4f1a-aacc-08e5dff54fc5",
   "metadata": {},
   "outputs": [],
   "source": []
  },
  {
   "cell_type": "code",
   "execution_count": 6,
   "id": "5cf2df2a-b027-42fe-b2bd-1052a676e0b0",
   "metadata": {},
   "outputs": [],
   "source": [
    "# no premature return\n",
    "@cuda.jit()\n",
    "def variant3(a,b,c,m,n,k,bs):\n",
    "    # we defined blocks of size bs*bs\n",
    "    x = cuda.blockIdx.x * bs + (cuda.threadIdx.x // bs)\n",
    "    y = cuda.blockIdx.y * bs + (cuda.threadIdx.x % bs)\n",
    "    if x<m and y<n:\n",
    "        tmp = 0\n",
    "        for i in range(k): tmp += a[x,i] * b[i,y]\n",
    "        c[x, y] = tmp"
   ]
  },
  {
   "cell_type": "code",
   "execution_count": 7,
   "id": "022f7c63-5291-409f-9dc0-f8eabfdc4b0a",
   "metadata": {},
   "outputs": [
    {
     "name": "stdout",
     "output_type": "stream",
     "text": [
      "Measuring runtime of kernel variant3 for m,n,k = 4092,4092,4092, averaging over 3 runs.\n"
     ]
    },
    {
     "name": "stderr",
     "output_type": "stream",
     "text": [
      "STAGE:2024-05-05 14:44:14 130288:130288 ActivityProfilerController.cpp:314] Completed Stage: Warm Up\n",
      "STAGE:2024-05-05 14:44:17 130288:130288 ActivityProfilerController.cpp:320] Completed Stage: Collection\n",
      "STAGE:2024-05-05 14:44:17 130288:130288 ActivityProfilerController.cpp:324] Completed Stage: Post Processing\n"
     ]
    },
    {
     "name": "stdout",
     "output_type": "stream",
     "text": [
      "1.263s\n"
     ]
    }
   ],
   "source": [
    "measure_runtime(\n",
    "    variant3,\n",
    "    nthreads=32*32,nblocks_fn=lambda outp_shape,nthreads: cdiv(outp_shape, (32,32)),\n",
    "    kernel_args=[32]\n",
    ");"
   ]
  },
  {
   "cell_type": "code",
   "execution_count": null,
   "id": "6e724ea0-97ca-489c-8aed-27e8886880be",
   "metadata": {},
   "outputs": [],
   "source": []
  },
  {
   "cell_type": "code",
   "execution_count": 8,
   "id": "89a6b8fe-b28f-4491-923a-e8e00a850188",
   "metadata": {},
   "outputs": [],
   "source": [
    "# init tmp as float\n",
    "@cuda.jit()\n",
    "def variant4(a,b,c,m,n,k,bs):\n",
    "    # we defined blocks of size bs*bs\n",
    "    x = cuda.blockIdx.x * bs + (cuda.threadIdx.x // bs)\n",
    "    y = cuda.blockIdx.y * bs + (cuda.threadIdx.x % bs)\n",
    "    if x>=m or y>=n: return \n",
    "    tmp = 0.0\n",
    "    for i in range(k): tmp += a[x,i] * b[i,y]\n",
    "    c[x, y] = tmp"
   ]
  },
  {
   "cell_type": "code",
   "execution_count": 9,
   "id": "2feec821-f87b-4647-b6be-e6c7408cb552",
   "metadata": {},
   "outputs": [
    {
     "name": "stdout",
     "output_type": "stream",
     "text": [
      "Measuring runtime of kernel variant4 for m,n,k = 4092,4092,4092, averaging over 3 runs.\n"
     ]
    },
    {
     "name": "stderr",
     "output_type": "stream",
     "text": [
      "STAGE:2024-05-05 14:44:21 130288:130288 ActivityProfilerController.cpp:314] Completed Stage: Warm Up\n",
      "STAGE:2024-05-05 14:44:24 130288:130288 ActivityProfilerController.cpp:320] Completed Stage: Collection\n",
      "STAGE:2024-05-05 14:44:24 130288:130288 ActivityProfilerController.cpp:324] Completed Stage: Post Processing\n"
     ]
    },
    {
     "name": "stdout",
     "output_type": "stream",
     "text": [
      "1.265s\n"
     ]
    }
   ],
   "source": [
    "measure_runtime(\n",
    "    variant4,\n",
    "    nthreads=32*32,nblocks_fn=lambda outp_shape,nthreads: cdiv(outp_shape, (32,32)),\n",
    "    kernel_args=[32]\n",
    ");"
   ]
  },
  {
   "cell_type": "code",
   "execution_count": null,
   "id": "3f0b48be-8602-40fc-8f65-394fe0d7f378",
   "metadata": {},
   "outputs": [],
   "source": []
  },
  {
   "cell_type": "code",
   "execution_count": 10,
   "id": "cb4a3430-f120-4e75-8f63-a73c50dce972",
   "metadata": {},
   "outputs": [],
   "source": [
    "# with signature explicitly provided\n",
    "from numba import float32, int32\n",
    "sig = (\n",
    "    float32[:, :], float32[:, :], float32[:, :], # matrices a,b,c\n",
    "    int32, int32, int32, # sizes m,n,k\n",
    "    int32 # bs\n",
    ")\n",
    "\n",
    "@cuda.jit(sig)\n",
    "def variant5(a,b,c,m,n,k,bs):\n",
    "    # we defined blocks of size bs*bs\n",
    "    x = cuda.blockIdx.x * bs + (cuda.threadIdx.x // bs)\n",
    "    y = cuda.blockIdx.y * bs + (cuda.threadIdx.x % bs)\n",
    "    if x>=m or y>=n: return \n",
    "    tmp = 0\n",
    "    for i in range(k): tmp += a[x,i] * b[i,y]\n",
    "    c[x, y] = tmp"
   ]
  },
  {
   "cell_type": "code",
   "execution_count": 11,
   "id": "19e96b6a-f761-421a-a901-ea2900065ca0",
   "metadata": {},
   "outputs": [
    {
     "name": "stdout",
     "output_type": "stream",
     "text": [
      "Measuring runtime of kernel variant5 for m,n,k = 4092,4092,4092, averaging over 3 runs.\n"
     ]
    },
    {
     "name": "stderr",
     "output_type": "stream",
     "text": [
      "STAGE:2024-05-05 14:44:28 130288:130288 ActivityProfilerController.cpp:314] Completed Stage: Warm Up\n",
      "STAGE:2024-05-05 14:44:31 130288:130288 ActivityProfilerController.cpp:320] Completed Stage: Collection\n",
      "STAGE:2024-05-05 14:44:31 130288:130288 ActivityProfilerController.cpp:324] Completed Stage: Post Processing\n"
     ]
    },
    {
     "name": "stdout",
     "output_type": "stream",
     "text": [
      "1.239s\n"
     ]
    }
   ],
   "source": [
    "measure_runtime(\n",
    "    variant5,\n",
    "    nthreads=32*32,nblocks_fn=lambda outp_shape,nthreads: cdiv(outp_shape, (32,32)),\n",
    "    kernel_args=[32]\n",
    ");"
   ]
  },
  {
   "cell_type": "code",
   "execution_count": null,
   "id": "023ff1aa-524a-4f41-9862-80e9f055b7d1",
   "metadata": {},
   "outputs": [],
   "source": []
  },
  {
   "cell_type": "code",
   "execution_count": 12,
   "id": "c9b7c08d-c4af-4551-9982-c95b95677f86",
   "metadata": {},
   "outputs": [],
   "source": [
    "# with types\n",
    "# as seen in https://twitter.com/haseox94/status/1752130508182708417\n",
    "@cuda.jit()\n",
    "def variant6(a,b,c,m:int,n:int,k:int,bs:int):\n",
    "    # we defined blocks of size bs*bs\n",
    "    x = cuda.blockIdx.x * bs + (cuda.threadIdx.x // bs)\n",
    "    y = cuda.blockIdx.y * bs + (cuda.threadIdx.x % bs)\n",
    "    if x>=m or y>=n: return \n",
    "    tmp: float = 0.0\n",
    "    for i in range(k): tmp += a[x,i] * b[i,y]\n",
    "    c[x, y] = tmp"
   ]
  },
  {
   "cell_type": "code",
   "execution_count": 13,
   "id": "8fb398e7-7695-4737-bee4-092e033e8eb8",
   "metadata": {},
   "outputs": [
    {
     "name": "stdout",
     "output_type": "stream",
     "text": [
      "Measuring runtime of kernel variant6 for m,n,k = 4092,4092,4092, averaging over 3 runs.\n"
     ]
    },
    {
     "name": "stderr",
     "output_type": "stream",
     "text": [
      "STAGE:2024-05-05 14:44:35 130288:130288 ActivityProfilerController.cpp:314] Completed Stage: Warm Up\n",
      "STAGE:2024-05-05 14:44:39 130288:130288 ActivityProfilerController.cpp:320] Completed Stage: Collection\n",
      "STAGE:2024-05-05 14:44:39 130288:130288 ActivityProfilerController.cpp:324] Completed Stage: Post Processing\n"
     ]
    },
    {
     "name": "stdout",
     "output_type": "stream",
     "text": [
      "1.268s\n"
     ]
    }
   ],
   "source": [
    "measure_runtime(\n",
    "    variant6,\n",
    "    nthreads=32*32,nblocks_fn=lambda outp_shape,nthreads: cdiv(outp_shape, (32,32)),\n",
    "    kernel_args=[32]\n",
    ");"
   ]
  },
  {
   "cell_type": "code",
   "execution_count": null,
   "id": "30cb3dd4-8700-4a81-bb80-f5b0fbbaf3ec",
   "metadata": {},
   "outputs": [],
   "source": []
  },
  {
   "cell_type": "markdown",
   "id": "b1551a5f-6601-4fb6-9588-7f0d57f84fe9",
   "metadata": {},
   "source": [
    "✅ From `check_types.ipynb` I know that `tmp` is cast to fp64, and explicitly defining it as fp32 prevents this.<br/>\n",
    "Let's measure the kernel without fp64-casting."
   ]
  },
  {
   "cell_type": "code",
   "execution_count": 14,
   "id": "7f51599a-bd4f-4b77-889b-48f0b4af49b4",
   "metadata": {},
   "outputs": [],
   "source": [
    "@cuda.jit()\n",
    "def variant7(a,b,c,m,n,k,bs):\n",
    "    # we defined blocks of size bs*bs\n",
    "    x = cuda.blockIdx.x * bs + (cuda.threadIdx.x // bs)\n",
    "    y = cuda.blockIdx.y * bs + (cuda.threadIdx.x % bs)\n",
    "    if x>=m or y>=n: return \n",
    "    tmp = np.float32(0)  # Initialize tmp explicitly as fp32\n",
    "    for i in range(k): tmp += a[x,i] * b[i,y]\n",
    "    c[x, y] = tmp"
   ]
  },
  {
   "cell_type": "code",
   "execution_count": 15,
   "id": "fa2ebc22-6e5b-4ff2-8683-bb8ccae66ff8",
   "metadata": {},
   "outputs": [
    {
     "name": "stdout",
     "output_type": "stream",
     "text": [
      "Measuring runtime of kernel variant7 for m,n,k = 4092,4092,4092, averaging over 3 runs.\n"
     ]
    },
    {
     "name": "stderr",
     "output_type": "stream",
     "text": [
      "STAGE:2024-05-05 14:44:41 130288:130288 ActivityProfilerController.cpp:314] Completed Stage: Warm Up\n",
      "STAGE:2024-05-05 14:44:42 130288:130288 ActivityProfilerController.cpp:320] Completed Stage: Collection\n",
      "STAGE:2024-05-05 14:44:42 130288:130288 ActivityProfilerController.cpp:324] Completed Stage: Post Processing\n"
     ]
    },
    {
     "name": "stdout",
     "output_type": "stream",
     "text": [
      "0.566s\n"
     ]
    }
   ],
   "source": [
    "measure_runtime(\n",
    "    variant7,\n",
    "    nthreads=32*32,nblocks_fn=lambda outp_shape,nthreads: cdiv(outp_shape, (32,32)),\n",
    "    kernel_args=[32]\n",
    ");"
   ]
  },
  {
   "cell_type": "code",
   "execution_count": null,
   "id": "a8e6df80-4056-428b-96d8-6a0b630ee58d",
   "metadata": {},
   "outputs": [],
   "source": []
  },
  {
   "cell_type": "markdown",
   "id": "27c47c21-948e-4104-bdf6-a64098b7bc96",
   "metadata": {},
   "source": [
    "Still, the runtime should be ~200ms"
   ]
  },
  {
   "cell_type": "code",
   "execution_count": null,
   "id": "0661e9c4-740a-4ac2-a25d-ab8d2e043933",
   "metadata": {},
   "outputs": [],
   "source": []
  },
  {
   "cell_type": "code",
   "execution_count": 31,
   "id": "63b801d7-180a-4731-a6fc-26ed8c7a8381",
   "metadata": {},
   "outputs": [],
   "source": [
    "# without 2d indexing\n",
    "@cuda.jit()\n",
    "def variant8(a,b,c,m,n,k):\n",
    "    bs = 32\n",
    "    # we defined blocks of size bs*bs\n",
    "    x = cuda.blockIdx.x * bs + (cuda.threadIdx.x // bs)\n",
    "    y = cuda.blockIdx.y * bs + (cuda.threadIdx.x % bs)\n",
    "    if x>=m or y>=n: return \n",
    "    tmp = np.float32(0)  # Initialize tmp explicitly as fp32\n",
    "    for i in range(k):\n",
    "        tmp += a[x*k+i] * b[i*n+y]\n",
    "    c[x*n+y] = tmp"
   ]
  },
  {
   "cell_type": "code",
   "execution_count": 32,
   "id": "919a1722-35f5-4471-9c84-56b5af8fd8ea",
   "metadata": {},
   "outputs": [
    {
     "name": "stderr",
     "output_type": "stream",
     "text": [
      "STAGE:2024-05-05 14:51:02 130288:130288 ActivityProfilerController.cpp:314] Completed Stage: Warm Up\n",
      "STAGE:2024-05-05 14:51:04 130288:130288 ActivityProfilerController.cpp:320] Completed Stage: Collection\n",
      "STAGE:2024-05-05 14:51:04 130288:130288 ActivityProfilerController.cpp:324] Completed Stage: Post Processing\n"
     ]
    }
   ],
   "source": [
    "from torch.profiler import profile, record_function, ProfilerActivity\n",
    "from torch.profiler import schedule as profiler_schedule\n",
    "\n",
    "from util import to_d, to_h\n",
    "dtype = 'float32'\n",
    "\n",
    "m,n,k=4092,4092,4092\n",
    "nthreads=(32*32,)\n",
    "nblocks = cdiv((4092,4092), (32,32))\n",
    "\n",
    "wait,warmup,runs=1,1,3\n",
    "\n",
    "a = to_d(np.ones((m*k,), dtype=dtype))\n",
    "b = to_d(np.ones((k*n,), dtype=dtype))\n",
    "\n",
    "with profile(activities=[ProfilerActivity.CUDA], schedule=profiler_schedule(wait=wait, warmup=warmup, active=runs)) as p:\n",
    "    for _ in range(wait+warmup+runs):\n",
    "        c = to_d(np.empty((m*n,), dtype=dtype))    \n",
    "        variant8[nblocks, nthreads](a,b,c,m,n,k)\n",
    "        p.step()"
   ]
  },
  {
   "cell_type": "code",
   "execution_count": 33,
   "id": "94e2c980-e19e-4b45-a6f3-a8d516a271aa",
   "metadata": {},
   "outputs": [
    {
     "data": {
      "text/plain": [
       "True"
      ]
     },
     "execution_count": 33,
     "metadata": {},
     "output_type": "execute_result"
    }
   ],
   "source": [
    "from torch import allclose, tensor\n",
    "\n",
    "allclose(tensor(a).reshape(m,k)@tensor(b).reshape(k,n), tensor(c).reshape(m,n))"
   ]
  },
  {
   "cell_type": "code",
   "execution_count": 37,
   "id": "2eb163e9-1c52-4d17-8af3-b1923af2a003",
   "metadata": {},
   "outputs": [
    {
     "name": "stdout",
     "output_type": "stream",
     "text": [
      "0.587s\n"
     ]
    }
   ],
   "source": [
    "from util import cuda_mean_runtime\n",
    "cuda_mean_runtime(p, variant8.__name__, do_print=True);"
   ]
  },
  {
   "cell_type": "code",
   "execution_count": null,
   "id": "3ed5cf8b-9f3e-4424-80b6-19caf53873ab",
   "metadata": {},
   "outputs": [],
   "source": []
  },
  {
   "cell_type": "code",
   "execution_count": null,
   "id": "5926dc6f-4d98-4a86-abd7-1f568bf5e758",
   "metadata": {},
   "outputs": [],
   "source": []
  }
 ],
 "metadata": {
  "kernelspec": {
   "display_name": "Python 3",
   "language": "python",
   "name": "python3"
  },
  "language_info": {
   "codemirror_mode": {
    "name": "ipython",
    "version": 3
   },
   "file_extension": ".py",
   "mimetype": "text/x-python",
   "name": "python",
   "nbconvert_exporter": "python",
   "pygments_lexer": "ipython3",
   "version": "3.10.10"
  }
 },
 "nbformat": 4,
 "nbformat_minor": 5
}
