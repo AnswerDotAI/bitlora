{
 "cells": [
  {
   "cell_type": "markdown",
   "id": "4cb333e9-c488-4912-939b-eb0b320d361e",
   "metadata": {},
   "source": [
    "You can tell nvcc how agressively to optimize the cuda-c code (trading off compilation speed).\n",
    "\n",
    "**Q:** In this nb, I investigate the effect of different optimization levels on runtime.<br/>\n",
    "**A:** No effect at all."
   ]
  },
  {
   "cell_type": "code",
   "execution_count": 1,
   "id": "aa9ad2ce-3d68-49b0-b5f3-1432cda853eb",
   "metadata": {},
   "outputs": [],
   "source": [
    "import torch\n",
    "from torch.utils.cpp_extension import load_inline\n",
    "from torch.profiler import profile, record_function, ProfilerActivity\n",
    "from torch.profiler import schedule as profiler_schedule"
   ]
  },
  {
   "cell_type": "code",
   "execution_count": 2,
   "id": "b1fc686b-7db5-4cb6-aabb-8be505ddf4c9",
   "metadata": {},
   "outputs": [],
   "source": [
    "cuda_src = '''\n",
    "#include <cuda.h>\n",
    "#include <cuda_runtime.h>\n",
    "\n",
    "template <const uint BLOCKSIZE>\n",
    "__global__ void matmul_global_mem_coalesce(const float *A, const float *B, float *C, int M, int N, int K) {\n",
    "  const int cRow = blockIdx.x * BLOCKSIZE + (threadIdx.x / BLOCKSIZE);\n",
    "  const int cCol = blockIdx.y * BLOCKSIZE + (threadIdx.x % BLOCKSIZE);\n",
    "\n",
    "  if (cRow < M && cCol < N) {\n",
    "    float tmp = 0.0;\n",
    "    for (int i = 0; i < K; ++i) { tmp += A[cRow * K + i] * B[i * N + cCol]; }\n",
    "    C[cRow * N + cCol] = tmp;\n",
    "  }\n",
    "}\n",
    "\n",
    "inline unsigned int cdiv(unsigned int a, unsigned int b) { return (a + b - 1) / b; }\n",
    "\n",
    "void matmul(int M, int N, int K) {\n",
    "    constexpr uint bs = 32;\n",
    "\n",
    "    // Allocate memory for A,B,C on device\n",
    "    float *d_A, *d_B, *d_C;\n",
    "    cudaMalloc((void **)&d_A, M * K * sizeof(float));\n",
    "    cudaMalloc((void **)&d_B, K * N * sizeof(float));\n",
    "    cudaMalloc((void **)&d_C, M * N * sizeof(float));\n",
    "\n",
    "    // Initialize A,B to ones\n",
    "    cudaMemset(d_A, 1, M * K * sizeof(float));\n",
    "    cudaMemset(d_B, 1, K * N * sizeof(float));\n",
    "\n",
    "    // Initialize C to zeros\n",
    "    cudaMemset(d_C, 0, M * N * sizeof(float));\n",
    "\n",
    "    // Configure the grid and block dimensions\n",
    "    dim3 tpb(bs * bs);\n",
    "    dim3 blocks(cdiv(M, bs), cdiv(N, bs));\n",
    "\n",
    "    // Launch the matrix multiplication kernel\n",
    "    matmul_global_mem_coalesce<bs><<<blocks, tpb>>>(d_A, d_B, d_C, M, N, K);\n",
    "\n",
    "    // Free device memory\n",
    "    cudaFree(d_A);\n",
    "    cudaFree(d_B);\n",
    "    cudaFree(d_C);\n",
    "}\n",
    "'''\n",
    "cpp_src = \"void matmul(int M, int N, int K);\""
   ]
  },
  {
   "cell_type": "code",
   "execution_count": 3,
   "id": "de6dd164-456c-455b-8257-8b71ee67710d",
   "metadata": {},
   "outputs": [
    {
     "name": "stdout",
     "output_type": "stream",
     "text": [
      "🫡 Starting to compile with optimization level -O0\n",
      "✅ Done compilation with optimization level -O0 in 51.18 seconds\n",
      "🫡 Starting to compile with optimization level -O1\n",
      "✅ Done compilation with optimization level -O1 in 84.41 seconds\n",
      "🫡 Starting to compile with optimization level -O2\n",
      "✅ Done compilation with optimization level -O2 in 84.10 seconds\n",
      "🫡 Starting to compile with optimization level -O3\n",
      "✅ Done compilation with optimization level -O3 in 82.69 seconds\n"
     ]
    }
   ],
   "source": [
    "import time\n",
    "\n",
    "matmuls = {}\n",
    "\n",
    "for opt_lv in ['-O0', '-O1', '-O2', '-O3']:\n",
    "    print(f'🫡 Starting to compile with optimization level {opt_lv}')\n",
    "    start_time = time.time()\n",
    "    matmuls[opt_lv] = load_inline(\n",
    "        name='matmul',\n",
    "        cpp_sources=cpp_src,\n",
    "        cuda_sources=cuda_src,\n",
    "        functions=['matmul'],\n",
    "        with_cuda=True,\n",
    "        extra_cuda_cflags=[opt_lv],\n",
    "        build_directory='tmp/matmul_2/',\n",
    "        # extra_cuda_cflags=['--expt-relaxed-constexpr']\n",
    "    )\n",
    "    end_time = time.time()\n",
    "    elapsed_time = end_time - start_time\n",
    "    print(f'✅ Done compilation with optimization level {opt_lv} in {elapsed_time:.2f} seconds')\n"
   ]
  },
  {
   "cell_type": "code",
   "execution_count": 4,
   "id": "3cc42c29-64b5-4df3-a0a5-9fdc8888c0c2",
   "metadata": {},
   "outputs": [],
   "source": [
    "m,n,k = 4092,4092,4092"
   ]
  },
  {
   "cell_type": "code",
   "execution_count": 7,
   "id": "114e9302-74e0-4032-a7db-18a0fc9c8833",
   "metadata": {},
   "outputs": [
    {
     "data": {
      "text/plain": [
       "{'-O0': <module 'matmul' from '/teamspace/studios/this_studio/tmp/matmul_2/matmul.so'>,\n",
       " '-O1': <module 'matmul_v1' from '/teamspace/studios/this_studio/tmp/matmul_2/matmul_v1.so'>,\n",
       " '-O2': <module 'matmul_v2' from '/teamspace/studios/this_studio/tmp/matmul_2/matmul_v2.so'>,\n",
       " '-O3': <module 'matmul_v3' from '/teamspace/studios/this_studio/tmp/matmul_2/matmul_v3.so'>}"
      ]
     },
     "execution_count": 7,
     "metadata": {},
     "output_type": "execute_result"
    }
   ],
   "source": [
    "matmuls"
   ]
  },
  {
   "cell_type": "code",
   "execution_count": 6,
   "id": "61fda56e-aedb-40cf-8e8e-b9cb1fdf74ab",
   "metadata": {},
   "outputs": [
    {
     "ename": "TypeError",
     "evalue": "matmul(): incompatible function arguments. The following argument types are supported:\n    1. (arg0: torch.Tensor, arg1: torch.Tensor) -> torch.Tensor\n\nInvoked with: 4092, 4092, 4092",
     "output_type": "error",
     "traceback": [
      "\u001b[0;31m---------------------------------------------------------------------------\u001b[0m",
      "\u001b[0;31mTypeError\u001b[0m                                 Traceback (most recent call last)",
      "Cell \u001b[0;32mIn[6], line 3\u001b[0m\n\u001b[1;32m      1\u001b[0m \u001b[38;5;66;03m# check it runs\u001b[39;00m\n\u001b[1;32m      2\u001b[0m \u001b[38;5;28;01mfor\u001b[39;00m opt_lv \u001b[38;5;129;01min\u001b[39;00m [\u001b[38;5;124m'\u001b[39m\u001b[38;5;124m-O0\u001b[39m\u001b[38;5;124m'\u001b[39m, \u001b[38;5;124m'\u001b[39m\u001b[38;5;124m-O1\u001b[39m\u001b[38;5;124m'\u001b[39m, \u001b[38;5;124m'\u001b[39m\u001b[38;5;124m-O2\u001b[39m\u001b[38;5;124m'\u001b[39m, \u001b[38;5;124m'\u001b[39m\u001b[38;5;124m-O3\u001b[39m\u001b[38;5;124m'\u001b[39m]:\n\u001b[0;32m----> 3\u001b[0m     \u001b[43mmatmuls\u001b[49m\u001b[43m[\u001b[49m\u001b[43mopt_lv\u001b[49m\u001b[43m]\u001b[49m\u001b[38;5;241;43m.\u001b[39;49m\u001b[43mmatmul\u001b[49m\u001b[43m(\u001b[49m\u001b[43mm\u001b[49m\u001b[43m,\u001b[49m\u001b[43mn\u001b[49m\u001b[43m,\u001b[49m\u001b[43mk\u001b[49m\u001b[43m)\u001b[49m\n",
      "\u001b[0;31mTypeError\u001b[0m: matmul(): incompatible function arguments. The following argument types are supported:\n    1. (arg0: torch.Tensor, arg1: torch.Tensor) -> torch.Tensor\n\nInvoked with: 4092, 4092, 4092"
     ]
    }
   ],
   "source": [
    "# check it runs\n",
    "for opt_lv in ['-O0', '-O1', '-O2', '-O3']:\n",
    "    matmuls[opt_lv].matmul(m,n,k)"
   ]
  },
  {
   "cell_type": "code",
   "execution_count": null,
   "id": "8af443de-4222-4113-8d00-d1228e9a7e2d",
   "metadata": {},
   "outputs": [],
   "source": [
    "wait, warmup = 1,1 # 1 wait cycle to ensure kernel is compiled, 1 warmup cycle to not have overhead of profiler start afterwards\n",
    "runs = 3\n",
    "\n",
    "for opt_lv in ['-O0', '-O1', '-O2', '-O3']:\n",
    "    print(f'🔍 Profiling matmul with optimization level {opt_lv}')\n",
    "    with profile(activities=[ProfilerActivity.CUDA], schedule=profiler_schedule(wait=1, warmup=1, active=runs)) as p:\n",
    "        for _ in range(wait+warmup+runs):\n",
    "            matmuls[opt_lv].matmul(m,n,k)\n",
    "            p.step()\n",
    "\n",
    "    print(f'📊 Results for optimization level {opt_lv}:')\n",
    "    print(p.key_averages().table(sort_by=\"cuda_time_total\", row_limit=10))"
   ]
  },
  {
   "cell_type": "markdown",
   "id": "91507e34-c0d5-4238-91ba-77798eb5f365",
   "metadata": {},
   "source": []
  },
  {
   "cell_type": "code",
   "execution_count": null,
   "id": "cdc72bc1-0fde-4c2a-b1d6-42854ac7d892",
   "metadata": {},
   "outputs": [],
   "source": []
  },
  {
   "cell_type": "code",
   "execution_count": null,
   "id": "d8e9f0fa-472e-459c-b314-50dbd4b7e1b5",
   "metadata": {},
   "outputs": [],
   "source": []
  }
 ],
 "metadata": {
  "kernelspec": {
   "display_name": "Python 3",
   "language": "python",
   "name": "python3"
  },
  "language_info": {
   "codemirror_mode": {
    "name": "ipython",
    "version": 3
   },
   "file_extension": ".py",
   "mimetype": "text/x-python",
   "name": "python",
   "nbconvert_exporter": "python",
   "pygments_lexer": "ipython3",
   "version": "3.10.10"
  }
 },
 "nbformat": 4,
 "nbformat_minor": 5
}
