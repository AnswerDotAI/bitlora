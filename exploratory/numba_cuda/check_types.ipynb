{
 "cells": [
  {
   "cell_type": "markdown",
   "id": "2e2e05db-06ee-427d-9eca-a9ec67c4e27c",
   "metadata": {},
   "source": [
    "In this nb, I run the numba-cuda version of matmul_2 in debugging mode, and check the types.\n",
    "\n",
    "**Hypothesis:** Unwanted typecasting is done, which might be the reason the code is slow.<br/>\n",
    "**Result:** Yes! `tmp` is cast to fp64, which makes the kernel slow. Defining it as fp32 makes the kernel fast."
   ]
  },
  {
   "cell_type": "code",
   "execution_count": 1,
   "id": "ca3bde69-e3d3-4592-897e-a40ccdf63657",
   "metadata": {},
   "outputs": [],
   "source": [
    "import os\n",
    "os.environ['NUMBA_ENABLE_CUDASIM']='1'\n",
    "os.environ['CUDA_LAUNCH_BLOCKING']='1'\n",
    "\n",
    "import numpy as np\n",
    "from numba import cuda\n",
    "from util import cdiv, to_d, to_h\n",
    "\n",
    "from fastcore.basics import strcat, get_class\n",
    "\n",
    "dtype='float32'"
   ]
  },
  {
   "cell_type": "code",
   "execution_count": 2,
   "id": "479403b8-d497-4c34-8d7e-40044c4353ce",
   "metadata": {},
   "outputs": [],
   "source": [
    "def bits_per_item(mat): return mat._item.nbytes/(mat._item.shape[0]*mat._item.shape[1]) # to check if matrices are fp32 (4bytes per item)\n",
    "\n",
    "def types(*os): print(strcat((type(o) for o in os), ', '))"
   ]
  },
  {
   "cell_type": "code",
   "execution_count": null,
   "id": "944bb7ea-3f2d-464a-ad5e-ada13be22e2d",
   "metadata": {},
   "outputs": [],
   "source": []
  },
  {
   "cell_type": "code",
   "execution_count": 3,
   "id": "42511845-da42-426f-8df3-14d3f229e593",
   "metadata": {},
   "outputs": [
    {
     "name": "stdout",
     "output_type": "stream",
     "text": [
      "2 3 4  #  2  #  (1, 2) 4\n",
      "[[1. 1. 1.]\n",
      " [1. 1. 1.]]\n",
      "[[1. 1. 1. 1.]\n",
      " [1. 1. 1. 1.]\n",
      " [1. 1. 1. 1.]]\n"
     ]
    }
   ],
   "source": [
    "m,k,n = 2,3,4\n",
    "bs=2\n",
    "\n",
    "a = to_d(np.ones((m,k), dtype=dtype))\n",
    "b = to_d(np.ones((k,n), dtype=dtype))\n",
    "c = to_d(np.empty((m,n), dtype=dtype))\n",
    "\n",
    "nthreads = bs*bs\n",
    "nblocks = cdiv(c.shape, (bs,bs))\n",
    "\n",
    "print(m,k,n,' # ',bs,' # ',nblocks,nthreads)\n",
    "print(a)\n",
    "print(b)"
   ]
  },
  {
   "cell_type": "code",
   "execution_count": 44,
   "id": "64adef7d-8857-453c-a3f5-f2364e1a453c",
   "metadata": {},
   "outputs": [],
   "source": [
    "@cuda.jit()\n",
    "def matmul_2(a,b,c,m,n,k,bs):\n",
    "    # we defined blocks of size bs*bs\n",
    "    x = cuda.blockIdx.x * bs + (cuda.threadIdx.x // bs)\n",
    "    y = cuda.blockIdx.y * bs + (cuda.threadIdx.x % bs)\n",
    "    if x>=m or y>=n: return \n",
    "    tmp = 0\n",
    "    for i in range(k): tmp += a[x,i] * b[i,y]\n",
    "    c[x, y] = tmp\n",
    "    if (x,y)==(0,0): raise RuntimeError('Let us inspect')"
   ]
  },
  {
   "cell_type": "code",
   "execution_count": 45,
   "id": "2a7e7751-881e-4a78-9dd8-4dd3043a0619",
   "metadata": {
    "scrolled": true
   },
   "outputs": [
    {
     "ename": "RuntimeError",
     "evalue": "tid=[0, 0, 0] ctaid=[0, 0, 0]: Let us inspect",
     "output_type": "error",
     "traceback": [
      "\u001b[0;31m---------------------------------------------------------------------------\u001b[0m",
      "\u001b[0;31mRuntimeError\u001b[0m                              Traceback (most recent call last)",
      "Cell \u001b[0;32mIn[45], line 1\u001b[0m\n\u001b[0;32m----> 1\u001b[0m \u001b[43mmatmul_2\u001b[49m\u001b[43m[\u001b[49m\u001b[43mnblocks\u001b[49m\u001b[43m,\u001b[49m\u001b[43mnthreads\u001b[49m\u001b[43m]\u001b[49m\u001b[43m(\u001b[49m\u001b[43ma\u001b[49m\u001b[43m,\u001b[49m\u001b[43mb\u001b[49m\u001b[43m,\u001b[49m\u001b[43mc\u001b[49m\u001b[43m,\u001b[49m\u001b[43mm\u001b[49m\u001b[43m,\u001b[49m\u001b[43mn\u001b[49m\u001b[43m,\u001b[49m\u001b[43mk\u001b[49m\u001b[43m,\u001b[49m\u001b[43mbs\u001b[49m\u001b[43m)\u001b[49m\n",
      "File \u001b[0;32m/home/zeus/miniconda3/envs/cloudspace/lib/python3.10/site-packages/numba/cuda/simulator/kernel.py:123\u001b[0m, in \u001b[0;36mFakeCUDAKernel.__call__\u001b[0;34m(self, *args)\u001b[0m\n\u001b[1;32m    121\u001b[0m     \u001b[38;5;28;01mfor\u001b[39;00m grid_point \u001b[38;5;129;01min\u001b[39;00m np\u001b[38;5;241m.\u001b[39mndindex(\u001b[38;5;241m*\u001b[39mgrid_dim):\n\u001b[1;32m    122\u001b[0m         bm \u001b[38;5;241m=\u001b[39m BlockManager(\u001b[38;5;28mself\u001b[39m\u001b[38;5;241m.\u001b[39mfn, grid_dim, block_dim, \u001b[38;5;28mself\u001b[39m\u001b[38;5;241m.\u001b[39m_debug)\n\u001b[0;32m--> 123\u001b[0m         \u001b[43mbm\u001b[49m\u001b[38;5;241;43m.\u001b[39;49m\u001b[43mrun\u001b[49m\u001b[43m(\u001b[49m\u001b[43mgrid_point\u001b[49m\u001b[43m,\u001b[49m\u001b[43m \u001b[49m\u001b[38;5;241;43m*\u001b[39;49m\u001b[43mfake_args\u001b[49m\u001b[43m)\u001b[49m\n\u001b[1;32m    125\u001b[0m \u001b[38;5;28;01mfor\u001b[39;00m wb \u001b[38;5;129;01min\u001b[39;00m retr:\n\u001b[1;32m    126\u001b[0m     wb()\n",
      "File \u001b[0;32m/home/zeus/miniconda3/envs/cloudspace/lib/python3.10/site-packages/numba/cuda/simulator/kernel.py:297\u001b[0m, in \u001b[0;36mBlockManager.run\u001b[0;34m(self, grid_point, *args)\u001b[0m\n\u001b[1;32m    294\u001b[0m             t_other\u001b[38;5;241m.\u001b[39msyncthreads_blocked \u001b[38;5;241m=\u001b[39m \u001b[38;5;28;01mFalse\u001b[39;00m\n\u001b[1;32m    295\u001b[0m             t_other\u001b[38;5;241m.\u001b[39msyncthreads_event\u001b[38;5;241m.\u001b[39mset()\n\u001b[0;32m--> 297\u001b[0m         \u001b[38;5;28;01mraise\u001b[39;00m t\u001b[38;5;241m.\u001b[39mexception[\u001b[38;5;241m0\u001b[39m]\u001b[38;5;241m.\u001b[39mwith_traceback(t\u001b[38;5;241m.\u001b[39mexception[\u001b[38;5;241m1\u001b[39m])\n\u001b[1;32m    298\u001b[0m \u001b[38;5;28;01mif\u001b[39;00m livethreads \u001b[38;5;241m==\u001b[39m blockedthreads:\n\u001b[1;32m    299\u001b[0m     \u001b[38;5;28;01mfor\u001b[39;00m t \u001b[38;5;129;01min\u001b[39;00m blockedthreads:\n",
      "File \u001b[0;32m/home/zeus/miniconda3/envs/cloudspace/lib/python3.10/site-packages/numba/cuda/simulator/kernel.py:190\u001b[0m, in \u001b[0;36mBlockThread.run\u001b[0;34m(self)\u001b[0m\n\u001b[1;32m    188\u001b[0m \u001b[38;5;28;01mdef\u001b[39;00m \u001b[38;5;21mrun\u001b[39m(\u001b[38;5;28mself\u001b[39m):\n\u001b[1;32m    189\u001b[0m     \u001b[38;5;28;01mtry\u001b[39;00m:\n\u001b[0;32m--> 190\u001b[0m         \u001b[38;5;28;43msuper\u001b[39;49m\u001b[43m(\u001b[49m\u001b[43mBlockThread\u001b[49m\u001b[43m,\u001b[49m\u001b[43m \u001b[49m\u001b[38;5;28;43mself\u001b[39;49m\u001b[43m)\u001b[49m\u001b[38;5;241;43m.\u001b[39;49m\u001b[43mrun\u001b[49m\u001b[43m(\u001b[49m\u001b[43m)\u001b[49m\n\u001b[1;32m    191\u001b[0m     \u001b[38;5;28;01mexcept\u001b[39;00m \u001b[38;5;167;01mException\u001b[39;00m \u001b[38;5;28;01mas\u001b[39;00m e:\n\u001b[1;32m    192\u001b[0m         tid \u001b[38;5;241m=\u001b[39m \u001b[38;5;124m'\u001b[39m\u001b[38;5;124mtid=\u001b[39m\u001b[38;5;132;01m%s\u001b[39;00m\u001b[38;5;124m'\u001b[39m \u001b[38;5;241m%\u001b[39m \u001b[38;5;28mlist\u001b[39m(\u001b[38;5;28mself\u001b[39m\u001b[38;5;241m.\u001b[39mthreadIdx)\n",
      "File \u001b[0;32m/home/zeus/miniconda3/envs/cloudspace/lib/python3.10/threading.py:953\u001b[0m, in \u001b[0;36mThread.run\u001b[0;34m(self)\u001b[0m\n\u001b[1;32m    951\u001b[0m \u001b[38;5;28;01mtry\u001b[39;00m:\n\u001b[1;32m    952\u001b[0m     \u001b[38;5;28;01mif\u001b[39;00m \u001b[38;5;28mself\u001b[39m\u001b[38;5;241m.\u001b[39m_target \u001b[38;5;129;01mis\u001b[39;00m \u001b[38;5;129;01mnot\u001b[39;00m \u001b[38;5;28;01mNone\u001b[39;00m:\n\u001b[0;32m--> 953\u001b[0m         \u001b[38;5;28;43mself\u001b[39;49m\u001b[38;5;241;43m.\u001b[39;49m\u001b[43m_target\u001b[49m\u001b[43m(\u001b[49m\u001b[38;5;241;43m*\u001b[39;49m\u001b[38;5;28;43mself\u001b[39;49m\u001b[38;5;241;43m.\u001b[39;49m\u001b[43m_args\u001b[49m\u001b[43m,\u001b[49m\u001b[43m \u001b[49m\u001b[38;5;241;43m*\u001b[39;49m\u001b[38;5;241;43m*\u001b[39;49m\u001b[38;5;28;43mself\u001b[39;49m\u001b[38;5;241;43m.\u001b[39;49m\u001b[43m_kwargs\u001b[49m\u001b[43m)\u001b[49m\n\u001b[1;32m    954\u001b[0m \u001b[38;5;28;01mfinally\u001b[39;00m:\n\u001b[1;32m    955\u001b[0m     \u001b[38;5;66;03m# Avoid a refcycle if the thread is running a function with\u001b[39;00m\n\u001b[1;32m    956\u001b[0m     \u001b[38;5;66;03m# an argument that has a member that points to the thread.\u001b[39;00m\n\u001b[1;32m    957\u001b[0m     \u001b[38;5;28;01mdel\u001b[39;00m \u001b[38;5;28mself\u001b[39m\u001b[38;5;241m.\u001b[39m_target, \u001b[38;5;28mself\u001b[39m\u001b[38;5;241m.\u001b[39m_args, \u001b[38;5;28mself\u001b[39m\u001b[38;5;241m.\u001b[39m_kwargs\n",
      "File \u001b[0;32m/home/zeus/miniconda3/envs/cloudspace/lib/python3.10/site-packages/numba/cuda/simulator/kernel.py:275\u001b[0m, in \u001b[0;36mBlockManager.run.<locals>.target\u001b[0;34m()\u001b[0m\n\u001b[1;32m    274\u001b[0m \u001b[38;5;28;01mdef\u001b[39;00m \u001b[38;5;21mtarget\u001b[39m():\n\u001b[0;32m--> 275\u001b[0m     \u001b[38;5;28;43mself\u001b[39;49m\u001b[38;5;241;43m.\u001b[39;49m\u001b[43m_f\u001b[49m\u001b[43m(\u001b[49m\u001b[38;5;241;43m*\u001b[39;49m\u001b[43margs\u001b[49m\u001b[43m)\u001b[49m\n",
      "Cell \u001b[0;32mIn[44], line 10\u001b[0m, in \u001b[0;36mmatmul_2\u001b[0;34m(a, b, c, m, n, k, bs)\u001b[0m\n\u001b[1;32m      8\u001b[0m \u001b[38;5;28;01mfor\u001b[39;00m i \u001b[38;5;129;01min\u001b[39;00m \u001b[38;5;28mrange\u001b[39m(k): tmp \u001b[38;5;241m+\u001b[39m\u001b[38;5;241m=\u001b[39m a[x,i] \u001b[38;5;241m*\u001b[39m b[i,y]\n\u001b[1;32m      9\u001b[0m c[x, y] \u001b[38;5;241m=\u001b[39m tmp\n\u001b[0;32m---> 10\u001b[0m \u001b[38;5;28;01mif\u001b[39;00m (x,y)\u001b[38;5;241m==\u001b[39m(\u001b[38;5;241m0\u001b[39m,\u001b[38;5;241m0\u001b[39m): \u001b[38;5;28;01mraise\u001b[39;00m \u001b[38;5;167;01mRuntimeError\u001b[39;00m(\u001b[38;5;124m'\u001b[39m\u001b[38;5;124mLet us inspect\u001b[39m\u001b[38;5;124m'\u001b[39m)\n",
      "\u001b[0;31mRuntimeError\u001b[0m: tid=[0, 0, 0] ctaid=[0, 0, 0]: Let us inspect"
     ]
    }
   ],
   "source": [
    "matmul_2[nblocks,nthreads](a,b,c,m,n,k,bs)"
   ]
  },
  {
   "cell_type": "markdown",
   "id": "ff87a654-b765-4156-9e19-baea4a74f991",
   "metadata": {
    "scrolled": true
   },
   "source": [
    "This is the debug output:\n",
    "\n",
    "```py\n",
    "%debug\n",
    "\n",
    "ipdb>  print(a._item.nbytes)\n",
    "24\n",
    "ipdb>  bits_per_item(a), bits_per_item(b), bits_per_item(c)\n",
    "(4.0, 4.0, 4.0) ## note: fp32 = 4bytes, so this is good\n",
    "ipdb>  type(tmp)\n",
    "<class 'numpy.float64'>\n",
    "ipdb>  i=k-1\n",
    "ipdb>  i\n",
    "2\n",
    "ipdb>  types(a[x,i], b[i,y], a[x,i] * b[i,y])\n",
    "<class 'numpy.float32'>, <class 'numpy.float32'>, <class 'numpy.float32'>\n",
    "ipdb>  type(tmp+a[x,i] * b[i,y])\n",
    "<class 'numpy.float64'>\n",
    "ipdb>  type(0+a[x,i] * b[i,y])\n",
    "<class 'numpy.float64'>\n",
    "ipdb>  type(0.0+a[x,i] * b[i,y])\n",
    "<class 'numpy.float64'>\n",
    "```\n",
    "The accumulator is casted to fp64!"
   ]
  },
  {
   "cell_type": "code",
   "execution_count": 7,
   "id": "037668bd-8705-4434-b99b-b578d5b735d8",
   "metadata": {},
   "outputs": [],
   "source": [
    "@cuda.jit()\n",
    "def matmul_2_explicit_typedef(a,b,c,m,n,k,bs):\n",
    "    # we defined blocks of size bs*bs\n",
    "    x = cuda.blockIdx.x * bs + (cuda.threadIdx.x // bs)\n",
    "    y = cuda.blockIdx.y * bs + (cuda.threadIdx.x % bs)\n",
    "    if x>=m or y>=n: return \n",
    "    tmp = np.float32(0)  # Initialize tmp explicitly as fp32\n",
    "    for i in range(k): tmp += a[x,i] * b[i,y]\n",
    "    c[x, y] = tmp\n",
    "    if (x,y)==(0,0): raise RuntimeError('Let us inspect')"
   ]
  },
  {
   "cell_type": "code",
   "execution_count": 8,
   "id": "a457e0b1-09d7-4424-afcb-30b5a2fa7286",
   "metadata": {
    "scrolled": true
   },
   "outputs": [
    {
     "ename": "RuntimeError",
     "evalue": "tid=[0, 0, 0] ctaid=[0, 0, 0]: Let us inspect",
     "output_type": "error",
     "traceback": [
      "\u001b[0;31m---------------------------------------------------------------------------\u001b[0m",
      "\u001b[0;31mRuntimeError\u001b[0m                              Traceback (most recent call last)",
      "Cell \u001b[0;32mIn[8], line 1\u001b[0m\n\u001b[0;32m----> 1\u001b[0m \u001b[43mmatmul_2_explicit_typedef\u001b[49m\u001b[43m[\u001b[49m\u001b[43mnblocks\u001b[49m\u001b[43m,\u001b[49m\u001b[43mnthreads\u001b[49m\u001b[43m]\u001b[49m\u001b[43m(\u001b[49m\u001b[43ma\u001b[49m\u001b[43m,\u001b[49m\u001b[43mb\u001b[49m\u001b[43m,\u001b[49m\u001b[43mc\u001b[49m\u001b[43m,\u001b[49m\u001b[43mm\u001b[49m\u001b[43m,\u001b[49m\u001b[43mn\u001b[49m\u001b[43m,\u001b[49m\u001b[43mk\u001b[49m\u001b[43m,\u001b[49m\u001b[43mbs\u001b[49m\u001b[43m)\u001b[49m\n",
      "File \u001b[0;32m/home/zeus/miniconda3/envs/cloudspace/lib/python3.10/site-packages/numba/cuda/simulator/kernel.py:123\u001b[0m, in \u001b[0;36mFakeCUDAKernel.__call__\u001b[0;34m(self, *args)\u001b[0m\n\u001b[1;32m    121\u001b[0m     \u001b[38;5;28;01mfor\u001b[39;00m grid_point \u001b[38;5;129;01min\u001b[39;00m np\u001b[38;5;241m.\u001b[39mndindex(\u001b[38;5;241m*\u001b[39mgrid_dim):\n\u001b[1;32m    122\u001b[0m         bm \u001b[38;5;241m=\u001b[39m BlockManager(\u001b[38;5;28mself\u001b[39m\u001b[38;5;241m.\u001b[39mfn, grid_dim, block_dim, \u001b[38;5;28mself\u001b[39m\u001b[38;5;241m.\u001b[39m_debug)\n\u001b[0;32m--> 123\u001b[0m         \u001b[43mbm\u001b[49m\u001b[38;5;241;43m.\u001b[39;49m\u001b[43mrun\u001b[49m\u001b[43m(\u001b[49m\u001b[43mgrid_point\u001b[49m\u001b[43m,\u001b[49m\u001b[43m \u001b[49m\u001b[38;5;241;43m*\u001b[39;49m\u001b[43mfake_args\u001b[49m\u001b[43m)\u001b[49m\n\u001b[1;32m    125\u001b[0m \u001b[38;5;28;01mfor\u001b[39;00m wb \u001b[38;5;129;01min\u001b[39;00m retr:\n\u001b[1;32m    126\u001b[0m     wb()\n",
      "File \u001b[0;32m/home/zeus/miniconda3/envs/cloudspace/lib/python3.10/site-packages/numba/cuda/simulator/kernel.py:297\u001b[0m, in \u001b[0;36mBlockManager.run\u001b[0;34m(self, grid_point, *args)\u001b[0m\n\u001b[1;32m    294\u001b[0m             t_other\u001b[38;5;241m.\u001b[39msyncthreads_blocked \u001b[38;5;241m=\u001b[39m \u001b[38;5;28;01mFalse\u001b[39;00m\n\u001b[1;32m    295\u001b[0m             t_other\u001b[38;5;241m.\u001b[39msyncthreads_event\u001b[38;5;241m.\u001b[39mset()\n\u001b[0;32m--> 297\u001b[0m         \u001b[38;5;28;01mraise\u001b[39;00m t\u001b[38;5;241m.\u001b[39mexception[\u001b[38;5;241m0\u001b[39m]\u001b[38;5;241m.\u001b[39mwith_traceback(t\u001b[38;5;241m.\u001b[39mexception[\u001b[38;5;241m1\u001b[39m])\n\u001b[1;32m    298\u001b[0m \u001b[38;5;28;01mif\u001b[39;00m livethreads \u001b[38;5;241m==\u001b[39m blockedthreads:\n\u001b[1;32m    299\u001b[0m     \u001b[38;5;28;01mfor\u001b[39;00m t \u001b[38;5;129;01min\u001b[39;00m blockedthreads:\n",
      "File \u001b[0;32m/home/zeus/miniconda3/envs/cloudspace/lib/python3.10/site-packages/numba/cuda/simulator/kernel.py:190\u001b[0m, in \u001b[0;36mBlockThread.run\u001b[0;34m(self)\u001b[0m\n\u001b[1;32m    188\u001b[0m \u001b[38;5;28;01mdef\u001b[39;00m \u001b[38;5;21mrun\u001b[39m(\u001b[38;5;28mself\u001b[39m):\n\u001b[1;32m    189\u001b[0m     \u001b[38;5;28;01mtry\u001b[39;00m:\n\u001b[0;32m--> 190\u001b[0m         \u001b[38;5;28;43msuper\u001b[39;49m\u001b[43m(\u001b[49m\u001b[43mBlockThread\u001b[49m\u001b[43m,\u001b[49m\u001b[43m \u001b[49m\u001b[38;5;28;43mself\u001b[39;49m\u001b[43m)\u001b[49m\u001b[38;5;241;43m.\u001b[39;49m\u001b[43mrun\u001b[49m\u001b[43m(\u001b[49m\u001b[43m)\u001b[49m\n\u001b[1;32m    191\u001b[0m     \u001b[38;5;28;01mexcept\u001b[39;00m \u001b[38;5;167;01mException\u001b[39;00m \u001b[38;5;28;01mas\u001b[39;00m e:\n\u001b[1;32m    192\u001b[0m         tid \u001b[38;5;241m=\u001b[39m \u001b[38;5;124m'\u001b[39m\u001b[38;5;124mtid=\u001b[39m\u001b[38;5;132;01m%s\u001b[39;00m\u001b[38;5;124m'\u001b[39m \u001b[38;5;241m%\u001b[39m \u001b[38;5;28mlist\u001b[39m(\u001b[38;5;28mself\u001b[39m\u001b[38;5;241m.\u001b[39mthreadIdx)\n",
      "File \u001b[0;32m/home/zeus/miniconda3/envs/cloudspace/lib/python3.10/threading.py:953\u001b[0m, in \u001b[0;36mThread.run\u001b[0;34m(self)\u001b[0m\n\u001b[1;32m    951\u001b[0m \u001b[38;5;28;01mtry\u001b[39;00m:\n\u001b[1;32m    952\u001b[0m     \u001b[38;5;28;01mif\u001b[39;00m \u001b[38;5;28mself\u001b[39m\u001b[38;5;241m.\u001b[39m_target \u001b[38;5;129;01mis\u001b[39;00m \u001b[38;5;129;01mnot\u001b[39;00m \u001b[38;5;28;01mNone\u001b[39;00m:\n\u001b[0;32m--> 953\u001b[0m         \u001b[38;5;28;43mself\u001b[39;49m\u001b[38;5;241;43m.\u001b[39;49m\u001b[43m_target\u001b[49m\u001b[43m(\u001b[49m\u001b[38;5;241;43m*\u001b[39;49m\u001b[38;5;28;43mself\u001b[39;49m\u001b[38;5;241;43m.\u001b[39;49m\u001b[43m_args\u001b[49m\u001b[43m,\u001b[49m\u001b[43m \u001b[49m\u001b[38;5;241;43m*\u001b[39;49m\u001b[38;5;241;43m*\u001b[39;49m\u001b[38;5;28;43mself\u001b[39;49m\u001b[38;5;241;43m.\u001b[39;49m\u001b[43m_kwargs\u001b[49m\u001b[43m)\u001b[49m\n\u001b[1;32m    954\u001b[0m \u001b[38;5;28;01mfinally\u001b[39;00m:\n\u001b[1;32m    955\u001b[0m     \u001b[38;5;66;03m# Avoid a refcycle if the thread is running a function with\u001b[39;00m\n\u001b[1;32m    956\u001b[0m     \u001b[38;5;66;03m# an argument that has a member that points to the thread.\u001b[39;00m\n\u001b[1;32m    957\u001b[0m     \u001b[38;5;28;01mdel\u001b[39;00m \u001b[38;5;28mself\u001b[39m\u001b[38;5;241m.\u001b[39m_target, \u001b[38;5;28mself\u001b[39m\u001b[38;5;241m.\u001b[39m_args, \u001b[38;5;28mself\u001b[39m\u001b[38;5;241m.\u001b[39m_kwargs\n",
      "File \u001b[0;32m/home/zeus/miniconda3/envs/cloudspace/lib/python3.10/site-packages/numba/cuda/simulator/kernel.py:275\u001b[0m, in \u001b[0;36mBlockManager.run.<locals>.target\u001b[0;34m()\u001b[0m\n\u001b[1;32m    274\u001b[0m \u001b[38;5;28;01mdef\u001b[39;00m \u001b[38;5;21mtarget\u001b[39m():\n\u001b[0;32m--> 275\u001b[0m     \u001b[38;5;28;43mself\u001b[39;49m\u001b[38;5;241;43m.\u001b[39;49m\u001b[43m_f\u001b[49m\u001b[43m(\u001b[49m\u001b[38;5;241;43m*\u001b[39;49m\u001b[43margs\u001b[49m\u001b[43m)\u001b[49m\n",
      "Cell \u001b[0;32mIn[7], line 10\u001b[0m, in \u001b[0;36mmatmul_2_explicit_typedef\u001b[0;34m(a, b, c, m, n, k, bs)\u001b[0m\n\u001b[1;32m      8\u001b[0m \u001b[38;5;28;01mfor\u001b[39;00m i \u001b[38;5;129;01min\u001b[39;00m \u001b[38;5;28mrange\u001b[39m(k): tmp \u001b[38;5;241m+\u001b[39m\u001b[38;5;241m=\u001b[39m a[x,i] \u001b[38;5;241m*\u001b[39m b[i,y]\n\u001b[1;32m      9\u001b[0m c[x, y] \u001b[38;5;241m=\u001b[39m tmp\n\u001b[0;32m---> 10\u001b[0m \u001b[38;5;28;01mif\u001b[39;00m (x,y)\u001b[38;5;241m==\u001b[39m(\u001b[38;5;241m0\u001b[39m,\u001b[38;5;241m0\u001b[39m): \u001b[38;5;28;01mraise\u001b[39;00m \u001b[38;5;167;01mRuntimeError\u001b[39;00m(\u001b[38;5;124m'\u001b[39m\u001b[38;5;124mLet us inspect\u001b[39m\u001b[38;5;124m'\u001b[39m)\n",
      "\u001b[0;31mRuntimeError\u001b[0m: tid=[0, 0, 0] ctaid=[0, 0, 0]: Let us inspect"
     ]
    }
   ],
   "source": [
    "matmul_2_explicit_typedef[nblocks,nthreads](a,b,c,m,n,k,bs)"
   ]
  },
  {
   "cell_type": "markdown",
   "id": "e3c46856-56d3-4573-bc70-d1e90d065512",
   "metadata": {},
   "source": [
    "This is the debug output:\n",
    "```\n",
    "%debug\n",
    "\n",
    "ipdb>  type(tmp)\n",
    "<class 'numpy.float32'>\n",
    "```"
   ]
  },
  {
   "cell_type": "code",
   "execution_count": null,
   "id": "fcad8ba0-b4fd-49af-8093-fff38365bf91",
   "metadata": {},
   "outputs": [],
   "source": []
  },
  {
   "cell_type": "markdown",
   "id": "9b4eda20-95ed-4353-97a3-66953221c60c",
   "metadata": {},
   "source": [
    "___"
   ]
  },
  {
   "cell_type": "markdown",
   "id": "5df29c53-06d3-4a30-b43b-52501760cbd9",
   "metadata": {},
   "source": [
    "Even with `tmp` as fp32, matmul_3 is slow. Let's check it's types"
   ]
  },
  {
   "cell_type": "code",
   "execution_count": 4,
   "id": "2960af84-0303-4485-9633-7948314c7b6e",
   "metadata": {},
   "outputs": [],
   "source": [
    "from numba import float32"
   ]
  },
  {
   "cell_type": "code",
   "execution_count": 5,
   "id": "753ff406-d9eb-4dfb-bc9a-096c066f6be3",
   "metadata": {},
   "outputs": [],
   "source": [
    "@cuda.jit()\n",
    "def matmul_3_bs32(a,b,c,m,n,k):\n",
    "    bs = 32\n",
    "    bx,by = cuda.blockIdx.x, cuda.blockIdx.y\n",
    "    tx,ty = cuda.threadIdx.x//bs, cuda.threadIdx.x%bs\n",
    "    sh_a, sh_b = cuda.shared.array((bs,bs), float32), cuda.shared.array((bs,bs), float32)        \n",
    "    tmp = np.float32(0)\n",
    "    nk = (k+bs-1)//bs\n",
    "    for bk in range(nk):\n",
    "        for i in range(bs):\n",
    "            if (bx*bs+tx<m) and (bk*bs+i<k) and (by*bs+ty<n):\n",
    "                sh_a[tx,ty] = a[bx*bs+tx, bk*bs+i ]\n",
    "                sh_b[tx,ty] = b[bk*bs+i , by*bs+ty]\n",
    "        cuda.syncthreads()\n",
    "        for i in range(bs):\n",
    "            if (bx*bs+tx <m) and (bk*bs+i<k) and (by*bs+ty<n):\n",
    "                tmp += sh_a[tx,i]*sh_b[i,ty]\n",
    "        cuda.syncthreads()\n",
    "    if bx*bs+tx<m and by*bs+ty<n: c[bx*bs+tx,by*bs+ty] = tmp\n",
    "    if (bx,by,tx,ty)==(0,0,0,0): raise RuntimeError('Let us inspect')"
   ]
  },
  {
   "cell_type": "code",
   "execution_count": 6,
   "id": "1b73981e-9b75-42b7-b1f0-07f5c6b42893",
   "metadata": {
    "scrolled": true
   },
   "outputs": [
    {
     "ename": "RuntimeError",
     "evalue": "tid=[0, 0, 0] ctaid=[0, 0, 0]: Let us inspect",
     "output_type": "error",
     "traceback": [
      "\u001b[0;31m---------------------------------------------------------------------------\u001b[0m",
      "\u001b[0;31mRuntimeError\u001b[0m                              Traceback (most recent call last)",
      "Cell \u001b[0;32mIn[6], line 1\u001b[0m\n\u001b[0;32m----> 1\u001b[0m \u001b[43mmatmul_3_bs32\u001b[49m\u001b[43m[\u001b[49m\u001b[43mnblocks\u001b[49m\u001b[43m,\u001b[49m\u001b[43mnthreads\u001b[49m\u001b[43m]\u001b[49m\u001b[43m(\u001b[49m\u001b[43ma\u001b[49m\u001b[43m,\u001b[49m\u001b[43mb\u001b[49m\u001b[43m,\u001b[49m\u001b[43mc\u001b[49m\u001b[43m,\u001b[49m\u001b[43mm\u001b[49m\u001b[43m,\u001b[49m\u001b[43mn\u001b[49m\u001b[43m,\u001b[49m\u001b[43mk\u001b[49m\u001b[43m)\u001b[49m\n",
      "File \u001b[0;32m/home/zeus/miniconda3/envs/cloudspace/lib/python3.10/site-packages/numba/cuda/simulator/kernel.py:123\u001b[0m, in \u001b[0;36mFakeCUDAKernel.__call__\u001b[0;34m(self, *args)\u001b[0m\n\u001b[1;32m    121\u001b[0m     \u001b[38;5;28;01mfor\u001b[39;00m grid_point \u001b[38;5;129;01min\u001b[39;00m np\u001b[38;5;241m.\u001b[39mndindex(\u001b[38;5;241m*\u001b[39mgrid_dim):\n\u001b[1;32m    122\u001b[0m         bm \u001b[38;5;241m=\u001b[39m BlockManager(\u001b[38;5;28mself\u001b[39m\u001b[38;5;241m.\u001b[39mfn, grid_dim, block_dim, \u001b[38;5;28mself\u001b[39m\u001b[38;5;241m.\u001b[39m_debug)\n\u001b[0;32m--> 123\u001b[0m         \u001b[43mbm\u001b[49m\u001b[38;5;241;43m.\u001b[39;49m\u001b[43mrun\u001b[49m\u001b[43m(\u001b[49m\u001b[43mgrid_point\u001b[49m\u001b[43m,\u001b[49m\u001b[43m \u001b[49m\u001b[38;5;241;43m*\u001b[39;49m\u001b[43mfake_args\u001b[49m\u001b[43m)\u001b[49m\n\u001b[1;32m    125\u001b[0m \u001b[38;5;28;01mfor\u001b[39;00m wb \u001b[38;5;129;01min\u001b[39;00m retr:\n\u001b[1;32m    126\u001b[0m     wb()\n",
      "File \u001b[0;32m/home/zeus/miniconda3/envs/cloudspace/lib/python3.10/site-packages/numba/cuda/simulator/kernel.py:297\u001b[0m, in \u001b[0;36mBlockManager.run\u001b[0;34m(self, grid_point, *args)\u001b[0m\n\u001b[1;32m    294\u001b[0m             t_other\u001b[38;5;241m.\u001b[39msyncthreads_blocked \u001b[38;5;241m=\u001b[39m \u001b[38;5;28;01mFalse\u001b[39;00m\n\u001b[1;32m    295\u001b[0m             t_other\u001b[38;5;241m.\u001b[39msyncthreads_event\u001b[38;5;241m.\u001b[39mset()\n\u001b[0;32m--> 297\u001b[0m         \u001b[38;5;28;01mraise\u001b[39;00m t\u001b[38;5;241m.\u001b[39mexception[\u001b[38;5;241m0\u001b[39m]\u001b[38;5;241m.\u001b[39mwith_traceback(t\u001b[38;5;241m.\u001b[39mexception[\u001b[38;5;241m1\u001b[39m])\n\u001b[1;32m    298\u001b[0m \u001b[38;5;28;01mif\u001b[39;00m livethreads \u001b[38;5;241m==\u001b[39m blockedthreads:\n\u001b[1;32m    299\u001b[0m     \u001b[38;5;28;01mfor\u001b[39;00m t \u001b[38;5;129;01min\u001b[39;00m blockedthreads:\n",
      "File \u001b[0;32m/home/zeus/miniconda3/envs/cloudspace/lib/python3.10/site-packages/numba/cuda/simulator/kernel.py:190\u001b[0m, in \u001b[0;36mBlockThread.run\u001b[0;34m(self)\u001b[0m\n\u001b[1;32m    188\u001b[0m \u001b[38;5;28;01mdef\u001b[39;00m \u001b[38;5;21mrun\u001b[39m(\u001b[38;5;28mself\u001b[39m):\n\u001b[1;32m    189\u001b[0m     \u001b[38;5;28;01mtry\u001b[39;00m:\n\u001b[0;32m--> 190\u001b[0m         \u001b[38;5;28;43msuper\u001b[39;49m\u001b[43m(\u001b[49m\u001b[43mBlockThread\u001b[49m\u001b[43m,\u001b[49m\u001b[43m \u001b[49m\u001b[38;5;28;43mself\u001b[39;49m\u001b[43m)\u001b[49m\u001b[38;5;241;43m.\u001b[39;49m\u001b[43mrun\u001b[49m\u001b[43m(\u001b[49m\u001b[43m)\u001b[49m\n\u001b[1;32m    191\u001b[0m     \u001b[38;5;28;01mexcept\u001b[39;00m \u001b[38;5;167;01mException\u001b[39;00m \u001b[38;5;28;01mas\u001b[39;00m e:\n\u001b[1;32m    192\u001b[0m         tid \u001b[38;5;241m=\u001b[39m \u001b[38;5;124m'\u001b[39m\u001b[38;5;124mtid=\u001b[39m\u001b[38;5;132;01m%s\u001b[39;00m\u001b[38;5;124m'\u001b[39m \u001b[38;5;241m%\u001b[39m \u001b[38;5;28mlist\u001b[39m(\u001b[38;5;28mself\u001b[39m\u001b[38;5;241m.\u001b[39mthreadIdx)\n",
      "File \u001b[0;32m/home/zeus/miniconda3/envs/cloudspace/lib/python3.10/threading.py:953\u001b[0m, in \u001b[0;36mThread.run\u001b[0;34m(self)\u001b[0m\n\u001b[1;32m    951\u001b[0m \u001b[38;5;28;01mtry\u001b[39;00m:\n\u001b[1;32m    952\u001b[0m     \u001b[38;5;28;01mif\u001b[39;00m \u001b[38;5;28mself\u001b[39m\u001b[38;5;241m.\u001b[39m_target \u001b[38;5;129;01mis\u001b[39;00m \u001b[38;5;129;01mnot\u001b[39;00m \u001b[38;5;28;01mNone\u001b[39;00m:\n\u001b[0;32m--> 953\u001b[0m         \u001b[38;5;28;43mself\u001b[39;49m\u001b[38;5;241;43m.\u001b[39;49m\u001b[43m_target\u001b[49m\u001b[43m(\u001b[49m\u001b[38;5;241;43m*\u001b[39;49m\u001b[38;5;28;43mself\u001b[39;49m\u001b[38;5;241;43m.\u001b[39;49m\u001b[43m_args\u001b[49m\u001b[43m,\u001b[49m\u001b[43m \u001b[49m\u001b[38;5;241;43m*\u001b[39;49m\u001b[38;5;241;43m*\u001b[39;49m\u001b[38;5;28;43mself\u001b[39;49m\u001b[38;5;241;43m.\u001b[39;49m\u001b[43m_kwargs\u001b[49m\u001b[43m)\u001b[49m\n\u001b[1;32m    954\u001b[0m \u001b[38;5;28;01mfinally\u001b[39;00m:\n\u001b[1;32m    955\u001b[0m     \u001b[38;5;66;03m# Avoid a refcycle if the thread is running a function with\u001b[39;00m\n\u001b[1;32m    956\u001b[0m     \u001b[38;5;66;03m# an argument that has a member that points to the thread.\u001b[39;00m\n\u001b[1;32m    957\u001b[0m     \u001b[38;5;28;01mdel\u001b[39;00m \u001b[38;5;28mself\u001b[39m\u001b[38;5;241m.\u001b[39m_target, \u001b[38;5;28mself\u001b[39m\u001b[38;5;241m.\u001b[39m_args, \u001b[38;5;28mself\u001b[39m\u001b[38;5;241m.\u001b[39m_kwargs\n",
      "File \u001b[0;32m/home/zeus/miniconda3/envs/cloudspace/lib/python3.10/site-packages/numba/cuda/simulator/kernel.py:275\u001b[0m, in \u001b[0;36mBlockManager.run.<locals>.target\u001b[0;34m()\u001b[0m\n\u001b[1;32m    274\u001b[0m \u001b[38;5;28;01mdef\u001b[39;00m \u001b[38;5;21mtarget\u001b[39m():\n\u001b[0;32m--> 275\u001b[0m     \u001b[38;5;28;43mself\u001b[39;49m\u001b[38;5;241;43m.\u001b[39;49m\u001b[43m_f\u001b[49m\u001b[43m(\u001b[49m\u001b[38;5;241;43m*\u001b[39;49m\u001b[43margs\u001b[49m\u001b[43m)\u001b[49m\n",
      "Cell \u001b[0;32mIn[5], line 20\u001b[0m, in \u001b[0;36mmatmul_3_bs32\u001b[0;34m(a, b, c, m, n, k)\u001b[0m\n\u001b[1;32m     18\u001b[0m     cuda\u001b[38;5;241m.\u001b[39msyncthreads()\n\u001b[1;32m     19\u001b[0m \u001b[38;5;28;01mif\u001b[39;00m bx\u001b[38;5;241m*\u001b[39mbs\u001b[38;5;241m+\u001b[39mtx\u001b[38;5;241m<\u001b[39mm \u001b[38;5;129;01mand\u001b[39;00m by\u001b[38;5;241m*\u001b[39mbs\u001b[38;5;241m+\u001b[39mty\u001b[38;5;241m<\u001b[39mn: c[bx\u001b[38;5;241m*\u001b[39mbs\u001b[38;5;241m+\u001b[39mtx,by\u001b[38;5;241m*\u001b[39mbs\u001b[38;5;241m+\u001b[39mty] \u001b[38;5;241m=\u001b[39m tmp\n\u001b[0;32m---> 20\u001b[0m \u001b[38;5;28;01mif\u001b[39;00m (bx,by,tx,ty)\u001b[38;5;241m==\u001b[39m(\u001b[38;5;241m0\u001b[39m,\u001b[38;5;241m0\u001b[39m,\u001b[38;5;241m0\u001b[39m,\u001b[38;5;241m0\u001b[39m): \u001b[38;5;28;01mraise\u001b[39;00m \u001b[38;5;167;01mRuntimeError\u001b[39;00m(\u001b[38;5;124m'\u001b[39m\u001b[38;5;124mLet us inspect\u001b[39m\u001b[38;5;124m'\u001b[39m)\n",
      "\u001b[0;31mRuntimeError\u001b[0m: tid=[0, 0, 0] ctaid=[0, 0, 0]: Let us inspect"
     ]
    }
   ],
   "source": [
    "matmul_3_bs32[nblocks,nthreads](a,b,c,m,n,k)"
   ]
  },
  {
   "cell_type": "code",
   "execution_count": null,
   "id": "0d0171a7-055c-4fd5-87f9-2131d32e4702",
   "metadata": {},
   "outputs": [
    {
     "name": "stdout",
     "output_type": "stream",
     "text": [
      "> \u001b[0;32m/tmp/ipykernel_111165/2261411280.py\u001b[0m(20)\u001b[0;36mmatmul_3_bs32\u001b[0;34m()\u001b[0m\n",
      "\u001b[0;32m     16 \u001b[0;31m            \u001b[0;32mif\u001b[0m \u001b[0;34m(\u001b[0m\u001b[0mbx\u001b[0m\u001b[0;34m*\u001b[0m\u001b[0mbs\u001b[0m\u001b[0;34m+\u001b[0m\u001b[0mtx\u001b[0m \u001b[0;34m<\u001b[0m\u001b[0mm\u001b[0m\u001b[0;34m)\u001b[0m \u001b[0;32mand\u001b[0m \u001b[0;34m(\u001b[0m\u001b[0mbk\u001b[0m\u001b[0;34m*\u001b[0m\u001b[0mbs\u001b[0m\u001b[0;34m+\u001b[0m\u001b[0mi\u001b[0m\u001b[0;34m<\u001b[0m\u001b[0mk\u001b[0m\u001b[0;34m)\u001b[0m \u001b[0;32mand\u001b[0m \u001b[0;34m(\u001b[0m\u001b[0mby\u001b[0m\u001b[0;34m*\u001b[0m\u001b[0mbs\u001b[0m\u001b[0;34m+\u001b[0m\u001b[0mty\u001b[0m\u001b[0;34m<\u001b[0m\u001b[0mn\u001b[0m\u001b[0;34m)\u001b[0m\u001b[0;34m:\u001b[0m\u001b[0;34m\u001b[0m\u001b[0;34m\u001b[0m\u001b[0m\n",
      "\u001b[0m\u001b[0;32m     17 \u001b[0;31m                \u001b[0mtmp\u001b[0m \u001b[0;34m+=\u001b[0m \u001b[0msh_a\u001b[0m\u001b[0;34m[\u001b[0m\u001b[0mtx\u001b[0m\u001b[0;34m,\u001b[0m\u001b[0mi\u001b[0m\u001b[0;34m]\u001b[0m\u001b[0;34m*\u001b[0m\u001b[0msh_b\u001b[0m\u001b[0;34m[\u001b[0m\u001b[0mi\u001b[0m\u001b[0;34m,\u001b[0m\u001b[0mty\u001b[0m\u001b[0;34m]\u001b[0m\u001b[0;34m\u001b[0m\u001b[0;34m\u001b[0m\u001b[0m\n",
      "\u001b[0m\u001b[0;32m     18 \u001b[0;31m        \u001b[0mcuda\u001b[0m\u001b[0;34m.\u001b[0m\u001b[0msyncthreads\u001b[0m\u001b[0;34m(\u001b[0m\u001b[0;34m)\u001b[0m\u001b[0;34m\u001b[0m\u001b[0;34m\u001b[0m\u001b[0m\n",
      "\u001b[0m\u001b[0;32m     19 \u001b[0;31m    \u001b[0;32mif\u001b[0m \u001b[0mbx\u001b[0m\u001b[0;34m*\u001b[0m\u001b[0mbs\u001b[0m\u001b[0;34m+\u001b[0m\u001b[0mtx\u001b[0m\u001b[0;34m<\u001b[0m\u001b[0mm\u001b[0m \u001b[0;32mand\u001b[0m \u001b[0mby\u001b[0m\u001b[0;34m*\u001b[0m\u001b[0mbs\u001b[0m\u001b[0;34m+\u001b[0m\u001b[0mty\u001b[0m\u001b[0;34m<\u001b[0m\u001b[0mn\u001b[0m\u001b[0;34m:\u001b[0m \u001b[0mc\u001b[0m\u001b[0;34m[\u001b[0m\u001b[0mbx\u001b[0m\u001b[0;34m*\u001b[0m\u001b[0mbs\u001b[0m\u001b[0;34m+\u001b[0m\u001b[0mtx\u001b[0m\u001b[0;34m,\u001b[0m\u001b[0mby\u001b[0m\u001b[0;34m*\u001b[0m\u001b[0mbs\u001b[0m\u001b[0;34m+\u001b[0m\u001b[0mty\u001b[0m\u001b[0;34m]\u001b[0m \u001b[0;34m=\u001b[0m \u001b[0mtmp\u001b[0m\u001b[0;34m\u001b[0m\u001b[0;34m\u001b[0m\u001b[0m\n",
      "\u001b[0m\u001b[0;32m---> 20 \u001b[0;31m    \u001b[0;32mif\u001b[0m \u001b[0;34m(\u001b[0m\u001b[0mbx\u001b[0m\u001b[0;34m,\u001b[0m\u001b[0mby\u001b[0m\u001b[0;34m,\u001b[0m\u001b[0mtx\u001b[0m\u001b[0;34m,\u001b[0m\u001b[0mty\u001b[0m\u001b[0;34m)\u001b[0m\u001b[0;34m==\u001b[0m\u001b[0;34m(\u001b[0m\u001b[0;36m0\u001b[0m\u001b[0;34m,\u001b[0m\u001b[0;36m0\u001b[0m\u001b[0;34m,\u001b[0m\u001b[0;36m0\u001b[0m\u001b[0;34m,\u001b[0m\u001b[0;36m0\u001b[0m\u001b[0;34m)\u001b[0m\u001b[0;34m:\u001b[0m \u001b[0;32mraise\u001b[0m \u001b[0mRuntimeError\u001b[0m\u001b[0;34m(\u001b[0m\u001b[0;34m'Let us inspect'\u001b[0m\u001b[0;34m)\u001b[0m\u001b[0;34m\u001b[0m\u001b[0;34m\u001b[0m\u001b[0m\n",
      "\u001b[0m\n"
     ]
    },
    {
     "name": "stdin",
     "output_type": "stream",
     "text": [
      "ipdb>  bits_per_item(a),bits_per_item(b),bits_per_item(c),\n"
     ]
    },
    {
     "name": "stdout",
     "output_type": "stream",
     "text": [
      "(4.0, 4.0, 4.0)\n"
     ]
    },
    {
     "name": "stdin",
     "output_type": "stream",
     "text": [
      "ipdb>  sh_a.dtype, sh_b.dtype\n"
     ]
    },
    {
     "name": "stdout",
     "output_type": "stream",
     "text": [
      "(dtype('float32'), dtype('float32'))\n"
     ]
    },
    {
     "name": "stdin",
     "output_type": "stream",
     "text": [
      "ipdb>  types(bx,by,tx,ty)\n"
     ]
    },
    {
     "name": "stdout",
     "output_type": "stream",
     "text": [
      "<class 'int'>, <class 'int'>, <class 'int'>, <class 'int'>\n"
     ]
    },
    {
     "name": "stdin",
     "output_type": "stream",
     "text": [
      "ipdb>  type(tmp)\n"
     ]
    },
    {
     "name": "stdout",
     "output_type": "stream",
     "text": [
      "<class 'numpy.float32'>\n"
     ]
    },
    {
     "name": "stdin",
     "output_type": "stream",
     "text": [
      "ipdb>  type(c[bx*bs+tx,by*bs+ty])\n"
     ]
    },
    {
     "name": "stdout",
     "output_type": "stream",
     "text": [
      "<class 'numpy.float32'>\n"
     ]
    },
    {
     "name": "stdin",
     "output_type": "stream",
     "text": [
      "ipdb>  types(a[0,0], b[0,0], c[0,0])\n"
     ]
    },
    {
     "name": "stdout",
     "output_type": "stream",
     "text": [
      "<class 'numpy.float32'>, <class 'numpy.float32'>, <class 'numpy.float32'>\n"
     ]
    },
    {
     "name": "stdin",
     "output_type": "stream",
     "text": [
      "ipdb>  nk\n"
     ]
    },
    {
     "name": "stdout",
     "output_type": "stream",
     "text": [
      "1\n"
     ]
    }
   ],
   "source": [
    "%debug"
   ]
  },
  {
   "cell_type": "markdown",
   "id": "700c6009-6707-41e9-aed3-b780eb845f48",
   "metadata": {},
   "source": [
    "```\n",
    "%debug\n",
    "\n",
    "ipdb>  bits_per_item(a),bits_per_item(b),bits_per_item(c)\n",
    "(4.0, 4.0, 4.0)\n",
    "ipdb>  types(a[0,0], b[0,0], c[0,0])\n",
    "<class 'numpy.float32'>, <class 'numpy.float32'>, <class 'numpy.float32'>\n",
    "ipdb>  sh_a.dtype, sh_b.dtype\n",
    "(dtype('float32'), dtype('float32'))\n",
    "ipdb>  types(bx,by,tx,ty)\n",
    "<class 'int'>, <class 'int'>, <class 'int'>, <class 'int'>\n",
    "```"
   ]
  },
  {
   "cell_type": "code",
   "execution_count": null,
   "id": "b121839f-0210-42ba-bbb2-771e40c15d27",
   "metadata": {},
   "outputs": [],
   "source": []
  }
 ],
 "metadata": {
  "kernelspec": {
   "display_name": "Python 3",
   "language": "python",
   "name": "python3"
  },
  "language_info": {
   "codemirror_mode": {
    "name": "ipython",
    "version": 3
   },
   "file_extension": ".py",
   "mimetype": "text/x-python",
   "name": "python",
   "nbconvert_exporter": "python",
   "pygments_lexer": "ipython3",
   "version": "3.10.10"
  }
 },
 "nbformat": 4,
 "nbformat_minor": 5
}
