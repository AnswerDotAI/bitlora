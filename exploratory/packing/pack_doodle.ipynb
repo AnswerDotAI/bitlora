{
 "cells": [
  {
   "cell_type": "markdown",
   "id": "97c11068-9524-4f78-9e08-3d1dd31ca3be",
   "metadata": {},
   "source": [
    "With this nb, I played around with the grouping & packing algorithm in hqq (for axis=0), to understand how many data values are needed to process a block in hqq.\n",
    "\n",
    "**Result:** I still don't know."
   ]
  },
  {
   "cell_type": "code",
   "execution_count": null,
   "id": "6cf45e16-8935-4733-b377-53b4b7e4b65b",
   "metadata": {},
   "outputs": [],
   "source": [
    "import numpy as np\n",
    "import matplotlib.pyplot as plt\n",
    "from matplotlib.animation import FuncAnimation\n",
    "from math import ceil\n",
    "cdiv = lambda x,y: ceil(x/y)"
   ]
  },
  {
   "cell_type": "code",
   "execution_count": null,
   "id": "87564a05-c1e0-48fe-a128-6f7d10ff8790",
   "metadata": {},
   "outputs": [
    {
     "name": "stdout",
     "output_type": "stream",
     "text": [
      "ng = 8, np_ = 3\n"
     ]
    }
   ],
   "source": [
    "m,n = 4,4\n",
    "gz,pz = 2,3\n",
    "\n",
    "ng = m*n/gz\n",
    "np_= cdiv(ng, pz)\n",
    "\n",
    "assert ng%1==0\n",
    "ng = int(ng)\n",
    "print(f'{ng = }, {np_ = }')"
   ]
  },
  {
   "cell_type": "code",
   "execution_count": null,
   "id": "693bcce4-a49b-429f-a61c-0918bc3734fc",
   "metadata": {},
   "outputs": [],
   "source": [
    "def plot(mat, title):\n",
    "    x,y = mat.shape\n",
    "    plt.figure(figsize=(y*0.5, x*0.5))\n",
    "    plt.title(title)\n",
    "    plt.imshow(mat, extent=[0, y, 0, x], vmin=0, vmax=1, aspect='equal', origin='lower')\n",
    "    plt.xticks(np.arange(0, y + 1, 1))\n",
    "    plt.yticks(np.arange(0, x + 1, 1))\n",
    "    plt.gca().invert_yaxis()\n",
    "    plt.grid(True)\n",
    "    plt.show()"
   ]
  },
  {
   "cell_type": "code",
   "execution_count": null,
   "id": "b4191220-2934-453a-a4f0-4900579296a2",
   "metadata": {},
   "outputs": [],
   "source": [
    "def orig_with_selected_rows(lo,hi, m,n):\n",
    "    mat = np.zeros((m,n))\n",
    "    mat[lo:hi+1,:] = 1\n",
    "    return mat\n",
    "\n",
    "def orig2quant(orig, gz, axis): return orig.reshape(gz,-1) if axis==0 else orig.reshape(-1, gz)\n",
    "\n",
    "def quant2pad(quant, ng, pz):\n",
    "    gz,ng = quant.shape\n",
    "    npacks = cdiv(gz,pz)\n",
    "    padded = np.zeros((npacks*pz, ng))\n",
    "    padded[:gz,:ng] = quant\n",
    "    return padded\n",
    "\n",
    "def pad2pack(pad, pz):\n",
    "    npacks = int(pad.shape[0]/pz)\n",
    "    ng = pad.shape[1]\n",
    "    pack = np.zeros((npacks, ng))\n",
    "    for i in range(npacks*pz): pack[i%npacks,:] += pad[i,:]\n",
    "    return pack"
   ]
  },
  {
   "cell_type": "code",
   "execution_count": null,
   "id": "609ff0cf-4039-49de-9d39-073ecd20530a",
   "metadata": {},
   "outputs": [],
   "source": [
    "def plot_all(m, n, gz, pz, row_lo, row_hi, axis):\n",
    "    assert axis in {0,1}, 'axis must be 0 or 1'\n",
    "    assert row_lo<=row_hi, f'row_lo ({row_lo}) must be <= row_hi ({row_hi})'\n",
    "    assert m*n%gz==0, f'group_size {gz} must divde m ({m}) or n ({n})'\n",
    "    ng = int(m*n/gz)\n",
    "\n",
    "    orig  = orig_with_selected_rows(row_lo, row_hi, m,n)\n",
    "    quant = orig2quant(orig, gz, axis)\n",
    "    pad   = quant2pad(quant ,ng, pz)\n",
    "    pack  = pad2pack(pad, pz)\n",
    "    \n",
    "    for mat,title in zip([orig, quant, pad, pack], ['W', 'Quanted W', 'Padded W', 'Packed W']): plot(mat, title)"
   ]
  },
  {
   "cell_type": "code",
   "execution_count": null,
   "id": "60cf1a31-7b1a-4ab0-9bcf-415a01d8bb9e",
   "metadata": {},
   "outputs": [
    {
     "data": {
      "application/vnd.jupyter.widget-view+json": {
       "model_id": "53174faaccfb4944bb4abe3f6208e8b6",
       "version_major": 2,
       "version_minor": 0
      },
      "text/plain": [
       "interactive(children=(IntSlider(value=4, description='m:', max=20, min=1), IntSlider(value=4, description='n:'…"
      ]
     },
     "metadata": {},
     "output_type": "display_data"
    }
   ],
   "source": [
    "from functools import partial\n",
    "from ipywidgets import interact, IntSlider, Dropdown\n",
    "\n",
    "n_slider=IntSlider(4, 1, 20, 1, description='n:') # val, min, max, step\n",
    "m_slider=IntSlider(4, 1, 20, 1, description='m:')\n",
    "\n",
    "pz_slider=IntSlider(3, 1, 10, 1, description='pack size:')\n",
    "gz_slider=IntSlider(2, 1, 4, 1, description='group size:')\n",
    "\n",
    "row_hi_slider=IntSlider(0, 0, 4, 1, description='row_end:')\n",
    "row_lo_slider=IntSlider(0, 0, 0, 1, description='row_start:')\n",
    "\n",
    "def set_max(*args, slider, ref_slider, offset=0): slider.max=ref_slider.value+offset\n",
    "\n",
    "m_slider.observe(partial(set_max, slider=row_hi_slider, ref_slider=m_slider, offset=-1), 'value')\n",
    "row_hi_slider.observe(partial(set_max, slider=row_lo_slider, ref_slider=row_hi_slider), 'value')\n",
    "m_slider.observe(partial(set_max, slider=gz_slider, ref_slider=m_slider), 'value')\n",
    "\n",
    "axis_dropdown = Dropdown(\n",
    "    options=[0, 1],\n",
    "    value=1,\n",
    "    description='Axis:',\n",
    ")\n",
    "\n",
    "interact(\n",
    "    plot_all,\n",
    "    row_hi=row_hi_slider,\n",
    "    row_lo=row_lo_slider,\n",
    "    pz=pz_slider,\n",
    "    gz=gz_slider,\n",
    "    n=n_slider,\n",
    "    m=m_slider,\n",
    "    axis=axis_dropdown\n",
    ");"
   ]
  },
  {
   "cell_type": "code",
   "execution_count": null,
   "id": "5e50decb-597f-4f19-9845-555aa4bb8ef6",
   "metadata": {},
   "outputs": [],
   "source": []
  },
  {
   "cell_type": "code",
   "execution_count": null,
   "id": "dcd965fb-979c-4620-a26b-d820198c5685",
   "metadata": {},
   "outputs": [],
   "source": []
  },
  {
   "cell_type": "code",
   "execution_count": null,
   "id": "f7e29ebc-20e3-4541-b3a7-f620a4e5a830",
   "metadata": {},
   "outputs": [],
   "source": []
  }
 ],
 "metadata": {
  "kernelspec": {
   "display_name": "python3",
   "language": "python",
   "name": "python3"
  }
 },
 "nbformat": 4,
 "nbformat_minor": 5
}
