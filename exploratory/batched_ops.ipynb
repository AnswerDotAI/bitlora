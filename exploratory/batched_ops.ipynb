{
 "cells": [
  {
   "cell_type": "code",
   "execution_count": null,
   "id": "bd83e5bb-0d5c-4d90-8215-e38974146352",
   "metadata": {},
   "outputs": [],
   "source": [
    "import torch"
   ]
  },
  {
   "cell_type": "code",
   "execution_count": null,
   "id": "27f8fc02-02a9-4103-af52-d5ecdb09f387",
   "metadata": {},
   "outputs": [],
   "source": []
  },
  {
   "cell_type": "code",
   "execution_count": null,
   "id": "85e0a50a-5419-451a-9cdf-a567416d964e",
   "metadata": {},
   "outputs": [],
   "source": [
    "b,m,n = 2,4,3 # batch, out, in"
   ]
  },
  {
   "cell_type": "code",
   "execution_count": null,
   "id": "d6afce2b-97a2-472a-b8a6-dc57d6c310c4",
   "metadata": {},
   "outputs": [],
   "source": [
    "x = torch.randn(b,n)\n",
    "w = torch.randn(m,n)"
   ]
  },
  {
   "cell_type": "code",
   "execution_count": null,
   "id": "b47c9ccb-f003-48e4-90ea-527b71d4b1b8",
   "metadata": {},
   "outputs": [
    {
     "data": {
      "text/plain": [
       "torch.Size([2, 4])"
      ]
     },
     "execution_count": null,
     "metadata": {},
     "output_type": "execute_result"
    }
   ],
   "source": [
    "(x@w.t()).shape"
   ]
  },
  {
   "cell_type": "code",
   "execution_count": null,
   "id": "dbbec530-682a-4106-8d9a-863353b53215",
   "metadata": {},
   "outputs": [],
   "source": []
  }
 ],
 "metadata": {
  "kernelspec": {
   "display_name": "python3",
   "language": "python",
   "name": "python3"
  }
 },
 "nbformat": 4,
 "nbformat_minor": 5
}
