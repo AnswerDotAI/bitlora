{
 "cells": [
  {
   "cell_type": "code",
   "execution_count": 12,
   "id": "50ed7f8d-e6d9-4d35-8fe0-9d36d2f30bc6",
   "metadata": {},
   "outputs": [],
   "source": [
    "import torch\n",
    "import triton, triton.language as tl, triton_util as tu\n",
    "cdiv = tu.cdiv\n",
    "from kernel_axis1_clean import forward_kernel"
   ]
  },
  {
   "cell_type": "code",
   "execution_count": 20,
   "id": "204159da-5575-4fd4-996c-fcc3a67fa9cf",
   "metadata": {},
   "outputs": [],
   "source": [
    "dtype = torch.float16\n",
    "\n",
    "pz = 10 # pack size\n",
    "\n",
    "m,r,n = 256,32,128  # size, out, lora rank, in\n",
    "gz,gz2  = 64,128    # group size, group size for quanting zero & scale, pack size\n",
    "\n",
    "bsb,bsm,bsr,bsn=16,16,16,16\n",
    "\n",
    "assert n%gz==0 and m%gz2==0, f'group_size ({gz}) needs to divide n ({n}); and group_size_2 ({gz2}) needs to divide m ({m})'"
   ]
  },
  {
   "cell_type": "code",
   "execution_count": 21,
   "id": "6f49d0bb-d111-4b23-bfbf-20375c0cb79f",
   "metadata": {},
   "outputs": [],
   "source": [
    "def rand(*shapes): return torch.randn(*shapes, dtype=dtype, device='cuda')\n",
    "def zeros(*shapes): return torch.zeros(*shapes, dtype=dtype, device='cuda')"
   ]
  },
  {
   "cell_type": "code",
   "execution_count": 22,
   "id": "0efd1a5e-2be1-4059-bc52-336f2494c872",
   "metadata": {},
   "outputs": [],
   "source": [
    "# hqq uses torch.compile, which doesn't work with triton 3.0.0, so can't use from hqq.core.quantize.HQQLinear\n",
    "# instead, quantized ourselves, and use hqq for packing\n",
    "\n",
    "# from our hqq reference implementation (`pythoin_hqq_qdora_v2.ipynb`), slightly adapted:\n",
    "from hqq.core.bitpack import BitPack\n",
    "\n",
    "def _quant(data, gz, axis, bits, packed):\n",
    "    assert data.numel()%gz==0, f'group_size {gz} must divide data (numel = {data.numel()})'\n",
    "    assert axis in (0,1), 'pass axis == 0 or 1'\n",
    "    data = data.float().reshape(-1,gz) if axis==1 else data.float().reshape(gz,-1)\n",
    "    min_, max_ = data.min(axis=axis, keepdim=True).values, data.max(axis=axis, keepdim=True).values\n",
    "    scale = (2**bits-1) / (max_-min_) # note: hqq clamp to 2e4 to avoid half-precision problems, let's ignore that for now\n",
    "    zero = -min_ * scale\n",
    "    data = (data * scale + zero).round()\n",
    "    if packed: data = BitPack.pack_3bit_32(data)\n",
    "    return data, zero, 1/scale # invert scale, so in dequanting we multiply instead of divide\n",
    "\n",
    "def quant(data, gz, gz2, bits=3):\n",
    "    qdata,  zero,   scale = _quant(data,  gz,  axis=1, bits=bits, packed=True)\n",
    "    qzero,  zzero, zscale = _quant(zero,  gz2, axis=0, bits=bits, packed=False)\n",
    "    qscale, szero, sscale = _quant(scale, gz2, axis=0, bits=bits, packed=False)\n",
    "    return qdata, qzero, qscale, zzero, zscale, szero, sscale"
   ]
  },
  {
   "cell_type": "code",
   "execution_count": 25,
   "id": "d89c4262-b696-488f-86d9-95b3080149e3",
   "metadata": {},
   "outputs": [],
   "source": [
    "@triton.testing.perf_report(\n",
    "    triton.testing.Benchmark(\n",
    "        x_names=['batch_size'], x_vals=[2**i for i in range(5, 12, 1)], x_log=True,\n",
    "        line_arg='method', line_vals=['pytorch', 'triton'], line_names=['PyTorch', 'Triton'], styles=[('blue', '-'), ('green', '-')],\n",
    "        ylabel='ms',\n",
    "        plot_name='hqq-qdora forward',\n",
    "        args=dict(m=m,r=r,n=n, gz=gz, gz2=gz2, bsb=bsb,bsm=bsm,bsr=bsr,bsn=bsn), # Values for function arguments not in `x_names` and `y_name`. -- todo: pass kernel function?\n",
    "    ))\n",
    "def benchmark(batch_size, m,r,n, gz,gz2, bsb,bsm,bsr,bsn, method):\n",
    "    b = batch_size    \n",
    "    X, A, B = rand(b,n), rand(r,n) * 0.1, rand(m,r) * 0.1\n",
    "    mag = rand(m).abs()\n",
    "    α = rand(1).item()\n",
    "    W = rand(m,n)\n",
    "    W_qp, zero_q, scale_q, zzero, zscale, szero, sscale = quant(W, gz=gz, gz2=gz2)\n",
    "    ng2 = m*n//(gz*gz2)\n",
    "    assert (scale_q.shape, zero_q.shape, sscale.shape, szero.shape, zscale.shape, zzero.shape) == ((gz2, ng2), (gz2, ng2), (1, ng2), (1, ng2), (1, ng2), (1, ng2))\n",
    "    \n",
    "    Y = zeros(b,m)\n",
    "    W_tmp = zeros(bsm,n)\n",
    "    tu.assert_tensors_gpu_ready(Y, X, A, B, W_qp, mag, scale_q, zero_q, sscale, szero, zscale, zzero, W_tmp)\n",
    "    grid = (cdiv(b, bsb), cdiv(m, bsm))\n",
    "    \n",
    "    quantiles = [0.5, 0.2, 0.8]    \n",
    "    if method == 'pytorch':      ms, min_ms, max_ms = triton.testing.do_bench(lambda: α*mag[None,:]*(X@W.t() + X@A.t()@B.t())/((W+B@A)**2).sum(axis=1).sqrt()[None,:], quantiles=quantiles)\n",
    "    if method == 'triton':       ms, min_ms, max_ms = triton.testing.do_bench(lambda: forward_kernel[grid](\n",
    "        X, A, B, W_qp, scale_q, zero_q,  # input matrices\n",
    "        mag, sscale, szero, zscale, zzero, # input vectors\n",
    "        α, # input scalars\n",
    "        Y, # output matrix\n",
    "        b,m,r,n,# dimensions\n",
    "        gz, gz2, pz, # grouping / packing configs\n",
    "        bsb, bsm, bsr, bsn, # block sizes\n",
    "        # todo umer: add? # strides\n",
    "        W_tmp, # todo umer: should not need this # intermediate matrices\n",
    "    ), quantiles=quantiles)\n",
    "    \n",
    "    return ms, max_ms, min_ms"
   ]
  },
  {
   "cell_type": "code",
   "execution_count": 26,
   "id": "239c44f9-1313-406a-8b12-a7c4200d8a83",
   "metadata": {},
   "outputs": [
    {
     "data": {
      "image/png": "[encoded data removed]",
      "text/plain": [
       "<Figure size 640x480 with 1 Axes>"
      ]
     },
     "metadata": {},
     "output_type": "display_data"
    },
    {
     "name": "stdout",
     "output_type": "stream",
     "text": [
      "hqq-qdora forward:\n",
      "   batch_size   PyTorch    Triton\n",
      "0        32.0  0.037664  0.013792\n",
      "1        64.0  0.038208  0.016384\n",
      "2       128.0  0.038976  0.025120\n",
      "3       256.0  0.045248  0.041952\n",
      "4       512.0  0.047840  0.076288\n",
      "5      1024.0  0.052800  0.147776\n",
      "6      2048.0  0.072032  0.288624\n"
     ]
    }
   ],
   "source": [
    "benchmark.run(print_data=True, show_plots=True)"
   ]
  },
  {
   "cell_type": "code",
   "execution_count": null,
   "id": "02e9e728-feb6-4435-a8d9-37f6769e0c36",
   "metadata": {},
   "outputs": [],
   "source": []
  },
  {
   "cell_type": "code",
   "execution_count": null,
   "id": "9da02078-97d0-49d9-8f3d-c892b25321e0",
   "metadata": {},
   "outputs": [],
   "source": []
  }
 ],
 "metadata": {
  "kernelspec": {
   "display_name": "Python 3",
   "language": "python",
   "name": "python3"
  },
  "language_info": {
   "codemirror_mode": {
    "name": "ipython",
    "version": 3
   },
   "file_extension": ".py",
   "mimetype": "text/x-python",
   "name": "python",
   "nbconvert_exporter": "python",
   "pygments_lexer": "ipython3",
   "version": "3.10.10"
  }
 },
 "nbformat": 4,
 "nbformat_minor": 5
}
